{
 "cells": [
  {
   "cell_type": "code",
   "execution_count": null,
   "id": "c82a235f-4c05-4a8f-9228-afe9585655d2",
   "metadata": {},
   "outputs": [],
   "source": [
    "#Streamlit trial for MilvusRAG\n"
   ]
  },
  {
   "cell_type": "code",
   "execution_count": 8,
   "id": "b52b524d-57d7-4955-8d0f-15c3e75ded54",
   "metadata": {},
   "outputs": [
    {
     "name": "stdout",
     "output_type": "stream",
     "text": [
      "[NbConvertApp] Converting notebook MilvusRag.ipynb to script\n",
      "[NbConvertApp] Writing 5061 bytes to MilvusRag.py\n"
     ]
    }
   ],
   "source": [
    "!jupyter nbconvert --to script MilvusRag.ipynb"
   ]
  },
  {
   "cell_type": "code",
   "execution_count": null,
   "id": "3973cafa-c055-4b73-9985-0dccb6272048",
   "metadata": {},
   "outputs": [],
   "source": [
    "#!streamlit run MilvusRag.py"
   ]
  },
  {
   "cell_type": "code",
   "execution_count": null,
   "id": "a713aac1-2abc-4471-abde-2bf8cd6d9218",
   "metadata": {},
   "outputs": [],
   "source": []
  },
  {
   "cell_type": "code",
   "execution_count": null,
   "id": "b72b40ea-08d5-43c3-9195-5e5a97936ba6",
   "metadata": {},
   "outputs": [],
   "source": []
  },
  {
   "cell_type": "code",
   "execution_count": null,
   "id": "2c48a871-62c0-4dbc-81cb-5b7e8cb5bd09",
   "metadata": {},
   "outputs": [],
   "source": []
  }
 ],
 "metadata": {
  "kernelspec": {
   "display_name": "Python 3 (ipykernel)",
   "language": "python",
   "name": "python3"
  },
  "language_info": {
   "codemirror_mode": {
    "name": "ipython",
    "version": 3
   },
   "file_extension": ".py",
   "mimetype": "text/x-python",
   "name": "python",
   "nbconvert_exporter": "python",
   "pygments_lexer": "ipython3",
   "version": "3.9.19"
  }
 },
 "nbformat": 4,
 "nbformat_minor": 5
}
