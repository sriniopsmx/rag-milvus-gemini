{
 "cells": [
  {
   "cell_type": "code",
   "execution_count": 6,
   "id": "42d223af-4233-4981-ad99-81e84450d4e0",
   "metadata": {},
   "outputs": [],
   "source": [
    "# Instructions\n",
    "# Create a service account, no need to give any roles\n",
    "# The sheet you want to read, \"share\" and give the email ID of the service account\n",
    "# SPREADSHEET_ID is in the URL, no \"/\"\n",
    "\n",
    "from googleapiclient.discovery import build\n",
    "from google.oauth2 import service_account\n",
    "import pandas as pd"
   ]
  },
  {
   "cell_type": "code",
   "execution_count": 7,
   "id": "322ad633-a5c8-43f1-8236-919a2aeebe64",
   "metadata": {},
   "outputs": [],
   "source": [
    "dir=\"/Users/srinivas.kambhampati/AI-ML\""
   ]
  },
  {
   "cell_type": "code",
   "execution_count": 40,
   "id": "1e7ea9e3-ebad-45a5-a863-b18994a49606",
   "metadata": {},
   "outputs": [],
   "source": [
    "#cred_file=\"client_secret_479293444961-kg61pk2j19msnhn7g54e95d6pku87qmu.apps.googleusercontent.com.json\"\n",
    "cred_file=\"ninja-project-338811-c7e2f84895b8.json\""
   ]
  },
  {
   "cell_type": "code",
   "execution_count": 41,
   "id": "547ec8ef-37e9-46d7-878d-bc6fb5cdf1c1",
   "metadata": {},
   "outputs": [],
   "source": [
    "CREDENTIALS_FILE= dir + \"/\" + cred_file "
   ]
  },
  {
   "cell_type": "code",
   "execution_count": 42,
   "id": "e862367c-0d16-4096-9ec8-d021442b4d2d",
   "metadata": {},
   "outputs": [
    {
     "name": "stdout",
     "output_type": "stream",
     "text": [
      "/Users/srinivas.kambhampati/AI-ML/ninja-project-338811-c7e2f84895b8.json\n"
     ]
    }
   ],
   "source": [
    "print (CREDENTIALS_FILE)"
   ]
  },
  {
   "cell_type": "code",
   "execution_count": 43,
   "id": "6634bb4c-c44b-4a10-a524-7836d508eccf",
   "metadata": {},
   "outputs": [],
   "source": [
    "SPREADSHEET_ID = '1IWijlJuL6xHNBCq1ECHYGodydU37a-6maN_0pMQoGTY'"
   ]
  },
  {
   "cell_type": "code",
   "execution_count": 44,
   "id": "0bb05a59-fce3-4e9b-b257-7d179b2994f4",
   "metadata": {},
   "outputs": [],
   "source": [
    "SCOPES = ['https://www.googleapis.com/auth/spreadsheets.readonly']"
   ]
  },
  {
   "cell_type": "code",
   "execution_count": 45,
   "id": "fad9f7c6-8875-400b-9b9f-84f8d321f453",
   "metadata": {},
   "outputs": [],
   "source": [
    "creds = service_account.Credentials.from_service_account_file(\n",
    "    CREDENTIALS_FILE, scopes=SCOPES)"
   ]
  },
  {
   "cell_type": "code",
   "execution_count": 46,
   "id": "47224767-c911-408d-ab14-a0d326d7a6b8",
   "metadata": {},
   "outputs": [],
   "source": [
    "service = build('sheets', 'v4', credentials=creds)"
   ]
  },
  {
   "cell_type": "code",
   "execution_count": 67,
   "id": "fa8556a0-8a00-4708-9cbc-cb0d2d032894",
   "metadata": {},
   "outputs": [],
   "source": [
    "# Read data from a specific sheet\n",
    "sheet_name = 'Gemini-test'  # Replace with your sheet name\n",
    "range_ = f'{sheet_name}!A:d'  # Define the range to read (adjust as needed)"
   ]
  },
  {
   "cell_type": "code",
   "execution_count": null,
   "id": "ab25a545-708b-44f7-acfa-337160cd6d91",
   "metadata": {},
   "outputs": [],
   "source": []
  },
  {
   "cell_type": "code",
   "execution_count": 68,
   "id": "4a5df500-eef1-4fd0-bd8c-d059dc0efaad",
   "metadata": {},
   "outputs": [],
   "source": [
    "result = service.spreadsheets().values().get(\n",
    "    spreadsheetId=SPREADSHEET_ID,\n",
    "    range=range_\n",
    ").execute()\n"
   ]
  },
  {
   "cell_type": "code",
   "execution_count": null,
   "id": "e81a93a3-11ee-44bd-937e-ad7e036950f9",
   "metadata": {},
   "outputs": [],
   "source": []
  },
  {
   "cell_type": "code",
   "execution_count": 69,
   "id": "cb7ae97c-68be-4ab3-9c0d-a14b0891cd88",
   "metadata": {},
   "outputs": [],
   "source": [
    "values = result.get('values', [])"
   ]
  },
  {
   "cell_type": "code",
   "execution_count": 70,
   "id": "243089bc-2fc0-4d88-85ac-40e853803099",
   "metadata": {},
   "outputs": [],
   "source": [
    "#print(values)"
   ]
  },
  {
   "cell_type": "code",
   "execution_count": 71,
   "id": "7136639e-a401-4ab4-9bb3-f6e5cffdfbcd",
   "metadata": {},
   "outputs": [],
   "source": [
    "df = pd.DataFrame(values[1:], columns=values[0])"
   ]
  },
  {
   "cell_type": "code",
   "execution_count": 72,
   "id": "a942e2db-db1b-4a34-86b5-6558cecb6705",
   "metadata": {},
   "outputs": [
    {
     "data": {
      "text/html": [
       "<div>\n",
       "<style scoped>\n",
       "    .dataframe tbody tr th:only-of-type {\n",
       "        vertical-align: middle;\n",
       "    }\n",
       "\n",
       "    .dataframe tbody tr th {\n",
       "        vertical-align: top;\n",
       "    }\n",
       "\n",
       "    .dataframe thead th {\n",
       "        text-align: right;\n",
       "    }\n",
       "</style>\n",
       "<table border=\"1\" class=\"dataframe\">\n",
       "  <thead>\n",
       "    <tr style=\"text-align: right;\">\n",
       "      <th></th>\n",
       "      <th>Issue</th>\n",
       "      <th>contents</th>\n",
       "      <th>messages</th>\n",
       "      <th>Context</th>\n",
       "    </tr>\n",
       "  </thead>\n",
       "  <tbody>\n",
       "    <tr>\n",
       "      <th>0</th>\n",
       "      <td>User want to know is it possible to configure ...</td>\n",
       "      <td>Hi Team,\\nINC9078040\\nissue: User want to know...</td>\n",
       "      <td>1)Opsmx replied as:-where in spinnaker it is a...</td>\n",
       "      <td>For dev pipelines user can add themselves in p...</td>\n",
       "    </tr>\n",
       "    <tr>\n",
       "      <th>1</th>\n",
       "      <td>Spinnaker 4 Kubeconfig update 15 mins (Token e...</td>\n",
       "      <td>Hi Opsmx ,\\nMay i know if any testing is going...</td>\n",
       "      <td>Opsmx asked user to try once again.</td>\n",
       "      <td>monitor for 15 mins aftre token update the job...</td>\n",
       "    </tr>\n",
       "    <tr>\n",
       "      <th>2</th>\n",
       "      <td>Error loading config file</td>\n",
       "      <td>Hi Yeshashwini / OpsMx,\\n\\nDeployment are fail...</td>\n",
       "      <td>1)Opsmx suggested as need to check the Logs fo...</td>\n",
       "      <td>monitor for 15 mins aftre token update the job...</td>\n",
       "    </tr>\n",
       "    <tr>\n",
       "      <th>3</th>\n",
       "      <td>\\nDeployment failed due to error with Anypoint...</td>\n",
       "      <td>Hi Yeshashwini/ OpsMx\\n\\nINC9097548\\nIssue: sp...</td>\n",
       "      <td>Opsmx suggested user need to check with anypo...</td>\n",
       "      <td>Need to check with anypoint platform team.</td>\n",
       "    </tr>\n",
       "    <tr>\n",
       "      <th>4</th>\n",
       "      <td>Exception in Dev env. related to GitHub ,\\nRep...</td>\n",
       "      <td>Hi Yeshashwini/ Opsmx\\nSpinnaker deployment is...</td>\n",
       "      <td>Opsmx suggested as:- \\n1)Can you check with gi...</td>\n",
       "      <td>As the error clearly shows 404 status for gith...</td>\n",
       "    </tr>\n",
       "  </tbody>\n",
       "</table>\n",
       "</div>"
      ],
      "text/plain": [
       "                                               Issue  \\\n",
       "0  User want to know is it possible to configure ...   \n",
       "1  Spinnaker 4 Kubeconfig update 15 mins (Token e...   \n",
       "2                          Error loading config file   \n",
       "3  \\nDeployment failed due to error with Anypoint...   \n",
       "4  Exception in Dev env. related to GitHub ,\\nRep...   \n",
       "\n",
       "                                            contents  \\\n",
       "0  Hi Team,\\nINC9078040\\nissue: User want to know...   \n",
       "1  Hi Opsmx ,\\nMay i know if any testing is going...   \n",
       "2  Hi Yeshashwini / OpsMx,\\n\\nDeployment are fail...   \n",
       "3  Hi Yeshashwini/ OpsMx\\n\\nINC9097548\\nIssue: sp...   \n",
       "4  Hi Yeshashwini/ Opsmx\\nSpinnaker deployment is...   \n",
       "\n",
       "                                            messages  \\\n",
       "0  1)Opsmx replied as:-where in spinnaker it is a...   \n",
       "1                Opsmx asked user to try once again.   \n",
       "2  1)Opsmx suggested as need to check the Logs fo...   \n",
       "3   Opsmx suggested user need to check with anypo...   \n",
       "4  Opsmx suggested as:- \\n1)Can you check with gi...   \n",
       "\n",
       "                                             Context  \n",
       "0  For dev pipelines user can add themselves in p...  \n",
       "1  monitor for 15 mins aftre token update the job...  \n",
       "2  monitor for 15 mins aftre token update the job...  \n",
       "3         Need to check with anypoint platform team.  \n",
       "4  As the error clearly shows 404 status for gith...  "
      ]
     },
     "execution_count": 72,
     "metadata": {},
     "output_type": "execute_result"
    }
   ],
   "source": [
    "df.head()"
   ]
  },
  {
   "cell_type": "code",
   "execution_count": 74,
   "id": "f48af582-e094-4e25-b960-d7ea1a841d70",
   "metadata": {},
   "outputs": [
    {
     "name": "stdout",
     "output_type": "stream",
     "text": [
      "<class 'pandas.core.frame.DataFrame'>\n",
      "RangeIndex: 229 entries, 0 to 228\n",
      "Data columns (total 4 columns):\n",
      " #   Column    Non-Null Count  Dtype \n",
      "---  ------    --------------  ----- \n",
      " 0   Issue     215 non-null    object\n",
      " 1   contents  215 non-null    object\n",
      " 2   messages  213 non-null    object\n",
      " 3   Context   140 non-null    object\n",
      "dtypes: object(4)\n",
      "memory usage: 7.3+ KB\n"
     ]
    }
   ],
   "source": [
    "df.info()"
   ]
  },
  {
   "cell_type": "code",
   "execution_count": 75,
   "id": "20132db8-a6f7-45e7-9d29-d8b53fc19f1f",
   "metadata": {},
   "outputs": [
    {
     "data": {
      "text/html": [
       "<div>\n",
       "<style scoped>\n",
       "    .dataframe tbody tr th:only-of-type {\n",
       "        vertical-align: middle;\n",
       "    }\n",
       "\n",
       "    .dataframe tbody tr th {\n",
       "        vertical-align: top;\n",
       "    }\n",
       "\n",
       "    .dataframe thead th {\n",
       "        text-align: right;\n",
       "    }\n",
       "</style>\n",
       "<table border=\"1\" class=\"dataframe\">\n",
       "  <thead>\n",
       "    <tr style=\"text-align: right;\">\n",
       "      <th></th>\n",
       "      <th>Issue</th>\n",
       "      <th>contents</th>\n",
       "      <th>messages</th>\n",
       "      <th>Context</th>\n",
       "    </tr>\n",
       "  </thead>\n",
       "  <tbody>\n",
       "    <tr>\n",
       "      <th>count</th>\n",
       "      <td>215</td>\n",
       "      <td>215</td>\n",
       "      <td>213</td>\n",
       "      <td>140</td>\n",
       "    </tr>\n",
       "    <tr>\n",
       "      <th>unique</th>\n",
       "      <td>196</td>\n",
       "      <td>213</td>\n",
       "      <td>199</td>\n",
       "      <td>118</td>\n",
       "    </tr>\n",
       "    <tr>\n",
       "      <th>top</th>\n",
       "      <td>Empty pipline issue, delete &amp; recreated</td>\n",
       "      <td>Incident Description</td>\n",
       "      <td>1)  Deleted the empty pipeline and asked them ...</td>\n",
       "      <td>Deleting empty pipeline user do not have acces...</td>\n",
       "    </tr>\n",
       "    <tr>\n",
       "      <th>freq</th>\n",
       "      <td>7</td>\n",
       "      <td>2</td>\n",
       "      <td>6</td>\n",
       "      <td>6</td>\n",
       "    </tr>\n",
       "  </tbody>\n",
       "</table>\n",
       "</div>"
      ],
      "text/plain": [
       "                                          Issue              contents  \\\n",
       "count                                       215                   215   \n",
       "unique                                      196                   213   \n",
       "top     Empty pipline issue, delete & recreated  Incident Description   \n",
       "freq                                          7                     2   \n",
       "\n",
       "                                                 messages  \\\n",
       "count                                                 213   \n",
       "unique                                                199   \n",
       "top     1)  Deleted the empty pipeline and asked them ...   \n",
       "freq                                                    6   \n",
       "\n",
       "                                                  Context  \n",
       "count                                                 140  \n",
       "unique                                                118  \n",
       "top     Deleting empty pipeline user do not have acces...  \n",
       "freq                                                    6  "
      ]
     },
     "execution_count": 75,
     "metadata": {},
     "output_type": "execute_result"
    }
   ],
   "source": [
    "df.describe()"
   ]
  },
  {
   "cell_type": "code",
   "execution_count": null,
   "id": "bd043327-ead8-47d3-91e9-61e5fa346637",
   "metadata": {},
   "outputs": [],
   "source": []
  }
 ],
 "metadata": {
  "kernelspec": {
   "display_name": "Python 3 (ipykernel)",
   "language": "python",
   "name": "python3"
  },
  "language_info": {
   "codemirror_mode": {
    "name": "ipython",
    "version": 3
   },
   "file_extension": ".py",
   "mimetype": "text/x-python",
   "name": "python",
   "nbconvert_exporter": "python",
   "pygments_lexer": "ipython3",
   "version": "3.9.6"
  }
 },
 "nbformat": 4,
 "nbformat_minor": 5
}
