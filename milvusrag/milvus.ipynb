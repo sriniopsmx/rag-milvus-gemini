{
 "cells": [
  {
   "cell_type": "code",
   "execution_count": 1,
   "id": "87ec778c-8668-4a41-82bb-90f360e350e2",
   "metadata": {},
   "outputs": [
    {
     "name": "stdout",
     "output_type": "stream",
     "text": [
      "Collecting pymilvus\n",
      "  Downloading pymilvus-2.4.5-py3-none-any.whl.metadata (5.6 kB)\n",
      "Requirement already satisfied: setuptools>69 in /home/srini/AI-ML/srinitest/lib/python3.8/site-packages (from pymilvus) (71.1.0)\n",
      "Collecting grpcio<=1.63.0,>=1.49.1 (from pymilvus)\n",
      "  Downloading grpcio-1.63.0-cp38-cp38-manylinux_2_17_x86_64.manylinux2014_x86_64.whl.metadata (3.2 kB)\n",
      "Collecting protobuf>=3.20.0 (from pymilvus)\n",
      "  Downloading protobuf-5.27.3-cp38-abi3-manylinux2014_x86_64.whl.metadata (592 bytes)\n",
      "Collecting environs<=9.5.0 (from pymilvus)\n",
      "  Downloading environs-9.5.0-py2.py3-none-any.whl.metadata (14 kB)\n",
      "Collecting ujson>=2.0.0 (from pymilvus)\n",
      "  Downloading ujson-5.10.0-cp38-cp38-manylinux_2_17_x86_64.manylinux2014_x86_64.whl.metadata (9.3 kB)\n",
      "Requirement already satisfied: pandas>=1.2.4 in /home/srini/AI-ML/srinitest/lib/python3.8/site-packages (from pymilvus) (2.0.3)\n",
      "Collecting setuptools>69 (from pymilvus)\n",
      "  Downloading setuptools-70.0.0-py3-none-any.whl.metadata (5.9 kB)\n",
      "Requirement already satisfied: numpy<1.25.0 in /home/srini/AI-ML/srinitest/lib/python3.8/site-packages (from pymilvus) (1.24.4)\n",
      "Collecting milvus-lite<2.5.0,>=2.4.0 (from pymilvus)\n",
      "  Downloading milvus_lite-2.4.9-py3-none-manylinux2014_x86_64.whl.metadata (8.5 kB)\n",
      "Collecting marshmallow>=3.0.0 (from environs<=9.5.0->pymilvus)\n",
      "  Downloading marshmallow-3.21.3-py3-none-any.whl.metadata (7.1 kB)\n",
      "Collecting python-dotenv (from environs<=9.5.0->pymilvus)\n",
      "  Downloading python_dotenv-1.0.1-py3-none-any.whl.metadata (23 kB)\n",
      "Requirement already satisfied: tqdm in /home/srini/AI-ML/srinitest/lib/python3.8/site-packages (from milvus-lite<2.5.0,>=2.4.0->pymilvus) (4.66.5)\n",
      "Requirement already satisfied: python-dateutil>=2.8.2 in /home/srini/AI-ML/srinitest/lib/python3.8/site-packages (from pandas>=1.2.4->pymilvus) (2.9.0.post0)\n",
      "Requirement already satisfied: pytz>=2020.1 in /home/srini/AI-ML/srinitest/lib/python3.8/site-packages (from pandas>=1.2.4->pymilvus) (2024.1)\n",
      "Requirement already satisfied: tzdata>=2022.1 in /home/srini/AI-ML/srinitest/lib/python3.8/site-packages (from pandas>=1.2.4->pymilvus) (2024.1)\n",
      "Requirement already satisfied: packaging>=17.0 in /home/srini/AI-ML/srinitest/lib/python3.8/site-packages (from marshmallow>=3.0.0->environs<=9.5.0->pymilvus) (24.1)\n",
      "Requirement already satisfied: six>=1.5 in /home/srini/AI-ML/srinitest/lib/python3.8/site-packages (from python-dateutil>=2.8.2->pandas>=1.2.4->pymilvus) (1.16.0)\n",
      "Downloading pymilvus-2.4.5-py3-none-any.whl (197 kB)\n",
      "\u001b[2K   \u001b[90m━━━━━━━━━━━━━━━━━━━━━━━━━━━━━━━━━━━━━━━━\u001b[0m \u001b[32m197.3/197.3 kB\u001b[0m \u001b[31m5.1 MB/s\u001b[0m eta \u001b[36m0:00:00\u001b[0m00:01\u001b[0m\n",
      "\u001b[?25hDownloading environs-9.5.0-py2.py3-none-any.whl (12 kB)\n",
      "Downloading grpcio-1.63.0-cp38-cp38-manylinux_2_17_x86_64.manylinux2014_x86_64.whl (5.6 MB)\n",
      "\u001b[2K   \u001b[90m━━━━━━━━━━━━━━━━━━━━━━━━━━━━━━━━━━━━━━━━\u001b[0m \u001b[32m5.6/5.6 MB\u001b[0m \u001b[31m45.8 MB/s\u001b[0m eta \u001b[36m0:00:00\u001b[0m00:01\u001b[0m00:01\u001b[0m\n",
      "\u001b[?25hDownloading milvus_lite-2.4.9-py3-none-manylinux2014_x86_64.whl (49.4 MB)\n",
      "\u001b[2K   \u001b[90m━━━━━━━━━━━━━━━━━━━━━━━━━━━━━━━━━━━━━━━━\u001b[0m \u001b[32m49.4/49.4 MB\u001b[0m \u001b[31m47.2 MB/s\u001b[0m eta \u001b[36m0:00:00\u001b[0m:00:01\u001b[0m00:01\u001b[0m\n",
      "\u001b[?25hDownloading protobuf-5.27.3-cp38-abi3-manylinux2014_x86_64.whl (309 kB)\n",
      "\u001b[2K   \u001b[90m━━━━━━━━━━━━━━━━━━━━━━━━━━━━━━━━━━━━━━━━\u001b[0m \u001b[32m309.3/309.3 kB\u001b[0m \u001b[31m21.2 MB/s\u001b[0m eta \u001b[36m0:00:00\u001b[0m\n",
      "\u001b[?25hDownloading setuptools-70.0.0-py3-none-any.whl (863 kB)\n",
      "\u001b[2K   \u001b[90m━━━━━━━━━━━━━━━━━━━━━━━━━━━━━━━━━━━━━━━━\u001b[0m \u001b[32m863.4/863.4 kB\u001b[0m \u001b[31m35.2 MB/s\u001b[0m eta \u001b[36m0:00:00\u001b[0m\n",
      "\u001b[?25hDownloading ujson-5.10.0-cp38-cp38-manylinux_2_17_x86_64.manylinux2014_x86_64.whl (53 kB)\n",
      "\u001b[2K   \u001b[90m━━━━━━━━━━━━━━━━━━━━━━━━━━━━━━━━━━━━━━━━\u001b[0m \u001b[32m53.6/53.6 kB\u001b[0m \u001b[31m5.1 MB/s\u001b[0m eta \u001b[36m0:00:00\u001b[0m\n",
      "\u001b[?25hDownloading marshmallow-3.21.3-py3-none-any.whl (49 kB)\n",
      "\u001b[2K   \u001b[90m━━━━━━━━━━━━━━━━━━━━━━━━━━━━━━━━━━━━━━━━\u001b[0m \u001b[32m49.2/49.2 kB\u001b[0m \u001b[31m3.6 MB/s\u001b[0m eta \u001b[36m0:00:00\u001b[0m\n",
      "\u001b[?25hDownloading python_dotenv-1.0.1-py3-none-any.whl (19 kB)\n",
      "Installing collected packages: ujson, setuptools, python-dotenv, protobuf, milvus-lite, marshmallow, grpcio, environs, pymilvus\n",
      "  Attempting uninstall: setuptools\n",
      "    Found existing installation: setuptools 71.1.0\n",
      "    Uninstalling setuptools-71.1.0:\n",
      "      Successfully uninstalled setuptools-71.1.0\n",
      "Successfully installed environs-9.5.0 grpcio-1.63.0 marshmallow-3.21.3 milvus-lite-2.4.9 protobuf-5.27.3 pymilvus-2.4.5 python-dotenv-1.0.1 setuptools-70.0.0 ujson-5.10.0\n",
      "\n",
      "\u001b[1m[\u001b[0m\u001b[34;49mnotice\u001b[0m\u001b[1;39;49m]\u001b[0m\u001b[39;49m A new release of pip is available: \u001b[0m\u001b[31;49m24.1.2\u001b[0m\u001b[39;49m -> \u001b[0m\u001b[32;49m24.2\u001b[0m\n",
      "\u001b[1m[\u001b[0m\u001b[34;49mnotice\u001b[0m\u001b[1;39;49m]\u001b[0m\u001b[39;49m To update, run: \u001b[0m\u001b[32;49mpip install --upgrade pip\u001b[0m\n"
     ]
    }
   ],
   "source": [
    "!pip install -U pymilvus"
   ]
  },
  {
   "cell_type": "code",
   "execution_count": 2,
   "id": "099757fe-7665-4be6-9fad-cf125a9ac8ba",
   "metadata": {},
   "outputs": [
    {
     "name": "stdout",
     "output_type": "stream",
     "text": [
      "Requirement already satisfied: pymilvus[model] in /home/srini/AI-ML/srinitest/lib/python3.8/site-packages (2.4.5)\n",
      "Requirement already satisfied: setuptools>69 in /home/srini/AI-ML/srinitest/lib/python3.8/site-packages (from pymilvus[model]) (70.0.0)\n",
      "Requirement already satisfied: grpcio<=1.63.0,>=1.49.1 in /home/srini/AI-ML/srinitest/lib/python3.8/site-packages (from pymilvus[model]) (1.63.0)\n",
      "Requirement already satisfied: protobuf>=3.20.0 in /home/srini/AI-ML/srinitest/lib/python3.8/site-packages (from pymilvus[model]) (5.27.3)\n",
      "Requirement already satisfied: environs<=9.5.0 in /home/srini/AI-ML/srinitest/lib/python3.8/site-packages (from pymilvus[model]) (9.5.0)\n",
      "Requirement already satisfied: ujson>=2.0.0 in /home/srini/AI-ML/srinitest/lib/python3.8/site-packages (from pymilvus[model]) (5.10.0)\n",
      "Requirement already satisfied: pandas>=1.2.4 in /home/srini/AI-ML/srinitest/lib/python3.8/site-packages (from pymilvus[model]) (2.0.3)\n",
      "Requirement already satisfied: numpy<1.25.0 in /home/srini/AI-ML/srinitest/lib/python3.8/site-packages (from pymilvus[model]) (1.24.4)\n",
      "Requirement already satisfied: milvus-lite<2.5.0,>=2.4.0 in /home/srini/AI-ML/srinitest/lib/python3.8/site-packages (from pymilvus[model]) (2.4.9)\n",
      "Collecting milvus-model>=0.1.0 (from pymilvus[model])\n",
      "  Downloading milvus_model-0.2.4-py3-none-any.whl.metadata (1.6 kB)\n",
      "Requirement already satisfied: marshmallow>=3.0.0 in /home/srini/AI-ML/srinitest/lib/python3.8/site-packages (from environs<=9.5.0->pymilvus[model]) (3.21.3)\n",
      "Requirement already satisfied: python-dotenv in /home/srini/AI-ML/srinitest/lib/python3.8/site-packages (from environs<=9.5.0->pymilvus[model]) (1.0.1)\n",
      "Requirement already satisfied: tqdm in /home/srini/AI-ML/srinitest/lib/python3.8/site-packages (from milvus-lite<2.5.0,>=2.4.0->pymilvus[model]) (4.66.5)\n",
      "Requirement already satisfied: transformers>=4.36.0 in /home/srini/AI-ML/srinitest/lib/python3.8/site-packages (from milvus-model>=0.1.0->pymilvus[model]) (4.43.4)\n",
      "Collecting onnxruntime (from milvus-model>=0.1.0->pymilvus[model])\n",
      "  Downloading onnxruntime-1.19.0-cp38-cp38-manylinux_2_27_x86_64.manylinux_2_28_x86_64.whl.metadata (4.3 kB)\n",
      "Collecting scipy>=1.10.0 (from milvus-model>=0.1.0->pymilvus[model])\n",
      "  Downloading scipy-1.10.1-cp38-cp38-manylinux_2_17_x86_64.manylinux2014_x86_64.whl.metadata (58 kB)\n",
      "\u001b[2K     \u001b[90m━━━━━━━━━━━━━━━━━━━━━━━━━━━━━━━━━━━━━━━━\u001b[0m \u001b[32m58.9/58.9 kB\u001b[0m \u001b[31m1.8 MB/s\u001b[0m eta \u001b[36m0:00:00\u001b[0m\n",
      "\u001b[?25hRequirement already satisfied: python-dateutil>=2.8.2 in /home/srini/AI-ML/srinitest/lib/python3.8/site-packages (from pandas>=1.2.4->pymilvus[model]) (2.9.0.post0)\n",
      "Requirement already satisfied: pytz>=2020.1 in /home/srini/AI-ML/srinitest/lib/python3.8/site-packages (from pandas>=1.2.4->pymilvus[model]) (2024.1)\n",
      "Requirement already satisfied: tzdata>=2022.1 in /home/srini/AI-ML/srinitest/lib/python3.8/site-packages (from pandas>=1.2.4->pymilvus[model]) (2024.1)\n",
      "Requirement already satisfied: packaging>=17.0 in /home/srini/AI-ML/srinitest/lib/python3.8/site-packages (from marshmallow>=3.0.0->environs<=9.5.0->pymilvus[model]) (24.1)\n",
      "Requirement already satisfied: six>=1.5 in /home/srini/AI-ML/srinitest/lib/python3.8/site-packages (from python-dateutil>=2.8.2->pandas>=1.2.4->pymilvus[model]) (1.16.0)\n",
      "Requirement already satisfied: filelock in /home/srini/AI-ML/srinitest/lib/python3.8/site-packages (from transformers>=4.36.0->milvus-model>=0.1.0->pymilvus[model]) (3.15.4)\n",
      "Requirement already satisfied: huggingface-hub<1.0,>=0.23.2 in /home/srini/AI-ML/srinitest/lib/python3.8/site-packages (from transformers>=4.36.0->milvus-model>=0.1.0->pymilvus[model]) (0.24.5)\n",
      "Requirement already satisfied: pyyaml>=5.1 in /home/srini/AI-ML/srinitest/lib/python3.8/site-packages (from transformers>=4.36.0->milvus-model>=0.1.0->pymilvus[model]) (6.0.1)\n",
      "Requirement already satisfied: regex!=2019.12.17 in /home/srini/AI-ML/srinitest/lib/python3.8/site-packages (from transformers>=4.36.0->milvus-model>=0.1.0->pymilvus[model]) (2024.7.24)\n",
      "Requirement already satisfied: requests in /home/srini/AI-ML/srinitest/lib/python3.8/site-packages (from transformers>=4.36.0->milvus-model>=0.1.0->pymilvus[model]) (2.32.3)\n",
      "Requirement already satisfied: safetensors>=0.4.1 in /home/srini/AI-ML/srinitest/lib/python3.8/site-packages (from transformers>=4.36.0->milvus-model>=0.1.0->pymilvus[model]) (0.4.4)\n",
      "Requirement already satisfied: tokenizers<0.20,>=0.19 in /home/srini/AI-ML/srinitest/lib/python3.8/site-packages (from transformers>=4.36.0->milvus-model>=0.1.0->pymilvus[model]) (0.19.1)\n",
      "Collecting coloredlogs (from onnxruntime->milvus-model>=0.1.0->pymilvus[model])\n",
      "  Downloading coloredlogs-15.0.1-py2.py3-none-any.whl.metadata (12 kB)\n",
      "Collecting flatbuffers (from onnxruntime->milvus-model>=0.1.0->pymilvus[model])\n",
      "  Downloading flatbuffers-24.3.25-py2.py3-none-any.whl.metadata (850 bytes)\n",
      "Requirement already satisfied: sympy in /home/srini/AI-ML/srinitest/lib/python3.8/site-packages (from onnxruntime->milvus-model>=0.1.0->pymilvus[model]) (1.13.1)\n",
      "Requirement already satisfied: fsspec>=2023.5.0 in /home/srini/AI-ML/srinitest/lib/python3.8/site-packages (from huggingface-hub<1.0,>=0.23.2->transformers>=4.36.0->milvus-model>=0.1.0->pymilvus[model]) (2024.6.1)\n",
      "Requirement already satisfied: typing-extensions>=3.7.4.3 in /home/srini/AI-ML/srinitest/lib/python3.8/site-packages (from huggingface-hub<1.0,>=0.23.2->transformers>=4.36.0->milvus-model>=0.1.0->pymilvus[model]) (4.12.2)\n",
      "Collecting humanfriendly>=9.1 (from coloredlogs->onnxruntime->milvus-model>=0.1.0->pymilvus[model])\n",
      "  Downloading humanfriendly-10.0-py2.py3-none-any.whl.metadata (9.2 kB)\n",
      "Requirement already satisfied: charset-normalizer<4,>=2 in /home/srini/AI-ML/srinitest/lib/python3.8/site-packages (from requests->transformers>=4.36.0->milvus-model>=0.1.0->pymilvus[model]) (3.3.2)\n",
      "Requirement already satisfied: idna<4,>=2.5 in /home/srini/AI-ML/srinitest/lib/python3.8/site-packages (from requests->transformers>=4.36.0->milvus-model>=0.1.0->pymilvus[model]) (3.7)\n",
      "Requirement already satisfied: urllib3<3,>=1.21.1 in /home/srini/AI-ML/srinitest/lib/python3.8/site-packages (from requests->transformers>=4.36.0->milvus-model>=0.1.0->pymilvus[model]) (2.2.2)\n",
      "Requirement already satisfied: certifi>=2017.4.17 in /home/srini/AI-ML/srinitest/lib/python3.8/site-packages (from requests->transformers>=4.36.0->milvus-model>=0.1.0->pymilvus[model]) (2024.7.4)\n",
      "Requirement already satisfied: mpmath<1.4,>=1.1.0 in /home/srini/AI-ML/srinitest/lib/python3.8/site-packages (from sympy->onnxruntime->milvus-model>=0.1.0->pymilvus[model]) (1.3.0)\n",
      "Downloading milvus_model-0.2.4-py3-none-any.whl (42 kB)\n",
      "\u001b[2K   \u001b[90m━━━━━━━━━━━━━━━━━━━━━━━━━━━━━━━━━━━━━━━━\u001b[0m \u001b[32m42.5/42.5 kB\u001b[0m \u001b[31m2.4 MB/s\u001b[0m eta \u001b[36m0:00:00\u001b[0m\n",
      "\u001b[?25hDownloading scipy-1.10.1-cp38-cp38-manylinux_2_17_x86_64.manylinux2014_x86_64.whl (34.5 MB)\n",
      "\u001b[2K   \u001b[90m━━━━━━━━━━━━━━━━━━━━━━━━━━━━━━━━━━━━━━━━\u001b[0m \u001b[32m34.5/34.5 MB\u001b[0m \u001b[31m13.3 MB/s\u001b[0m eta \u001b[36m0:00:00\u001b[0m00:01\u001b[0m00:01\u001b[0m\n",
      "\u001b[?25hDownloading onnxruntime-1.19.0-cp38-cp38-manylinux_2_27_x86_64.manylinux_2_28_x86_64.whl (13.2 MB)\n",
      "\u001b[2K   \u001b[90m━━━━━━━━━━━━━━━━━━━━━━━━━━━━━━━━━━━━━━━━\u001b[0m \u001b[32m13.2/13.2 MB\u001b[0m \u001b[31m17.3 MB/s\u001b[0m eta \u001b[36m0:00:00\u001b[0m00:01\u001b[0m00:01\u001b[0m\n",
      "\u001b[?25hDownloading coloredlogs-15.0.1-py2.py3-none-any.whl (46 kB)\n",
      "\u001b[2K   \u001b[90m━━━━━━━━━━━━━━━━━━━━━━━━━━━━━━━━━━━━━━━━\u001b[0m \u001b[32m46.0/46.0 kB\u001b[0m \u001b[31m4.8 MB/s\u001b[0m eta \u001b[36m0:00:00\u001b[0m\n",
      "\u001b[?25hDownloading flatbuffers-24.3.25-py2.py3-none-any.whl (26 kB)\n",
      "Downloading humanfriendly-10.0-py2.py3-none-any.whl (86 kB)\n",
      "\u001b[2K   \u001b[90m━━━━━━━━━━━━━━━━━━━━━━━━━━━━━━━━━━━━━━━━\u001b[0m \u001b[32m86.8/86.8 kB\u001b[0m \u001b[31m7.5 MB/s\u001b[0m eta \u001b[36m0:00:00\u001b[0m\n",
      "\u001b[?25hInstalling collected packages: flatbuffers, scipy, humanfriendly, coloredlogs, onnxruntime, milvus-model\n",
      "Successfully installed coloredlogs-15.0.1 flatbuffers-24.3.25 humanfriendly-10.0 milvus-model-0.2.4 onnxruntime-1.19.0 scipy-1.10.1\n",
      "\n",
      "\u001b[1m[\u001b[0m\u001b[34;49mnotice\u001b[0m\u001b[1;39;49m]\u001b[0m\u001b[39;49m A new release of pip is available: \u001b[0m\u001b[31;49m24.1.2\u001b[0m\u001b[39;49m -> \u001b[0m\u001b[32;49m24.2\u001b[0m\n",
      "\u001b[1m[\u001b[0m\u001b[34;49mnotice\u001b[0m\u001b[1;39;49m]\u001b[0m\u001b[39;49m To update, run: \u001b[0m\u001b[32;49mpip install --upgrade pip\u001b[0m\n"
     ]
    }
   ],
   "source": [
    "!pip install \"pymilvus[model]\""
   ]
  },
  {
   "cell_type": "code",
   "execution_count": 1,
   "id": "f2e8d611-5c78-4a9a-9206-7694f3a44a03",
   "metadata": {},
   "outputs": [],
   "source": [
    "from pymilvus import MilvusClient"
   ]
  },
  {
   "cell_type": "code",
   "execution_count": 2,
   "id": "1f2c2bc1-1037-4882-a065-989d8e583f46",
   "metadata": {},
   "outputs": [],
   "source": [
    "client = MilvusClient(uri='http://192.168.1.44:19530',db_name=\"milvus_demo\", overwrite=True)"
   ]
  },
  {
   "cell_type": "code",
   "execution_count": 3,
   "id": "b1ee5311-d4c8-4e64-98d1-ab6dcb2c7838",
   "metadata": {},
   "outputs": [],
   "source": [
    "if client.has_collection(collection_name=\"demo_collection\"):\n",
    "    client.drop_collection(collection_name=\"demo_collection\")\n",
    "client.create_collection(\n",
    "    collection_name=\"demo_collection\",\n",
    "    dimension=768,  # The vectors we will use in this demo has 768 dimensions\n",
    ")"
   ]
  },
  {
   "cell_type": "code",
   "execution_count": 4,
   "id": "e93a5a05-ae34-4d74-8f30-f4cf561bf7c6",
   "metadata": {},
   "outputs": [],
   "source": [
    "from pymilvus import model"
   ]
  },
  {
   "cell_type": "code",
   "execution_count": 5,
   "id": "dac00986-3f22-49cf-a390-a95d053360c6",
   "metadata": {},
   "outputs": [],
   "source": [
    "embedding_fn = model.DefaultEmbeddingFunction()"
   ]
  },
  {
   "cell_type": "code",
   "execution_count": 6,
   "id": "d13b7c01-dbc3-4c51-b8a1-a7c4dd2209ab",
   "metadata": {},
   "outputs": [
    {
     "name": "stdout",
     "output_type": "stream",
     "text": [
      "Dim: 768 (768,)\n",
      "Data has 3 entities, each with fields:  dict_keys(['id', 'vector', 'text', 'subject'])\n",
      "Vector dim: 768\n"
     ]
    }
   ],
   "source": [
    "# Text strings to search from.\n",
    "docs = [\n",
    "    \"Artificial intelligence was founded as an academic discipline in 1956.\",\n",
    "    \"Alan Turing was the first person to conduct substantial research in AI.\",\n",
    "    \"Born in Maida Vale, London, Turing was raised in southern England.\",\n",
    "]\n",
    "\n",
    "vectors = embedding_fn.encode_documents(docs)\n",
    "# The output vector has 768 dimensions, matching the collection that we just created.\n",
    "print(\"Dim:\", embedding_fn.dim, vectors[0].shape)  # Dim: 768 (768,)\n",
    "\n",
    "# Each entity has id, vector representation, raw text, and a subject label that we use\n",
    "# to demo metadata filtering later.\n",
    "data = [\n",
    "    {\"id\": i, \"vector\": vectors[i], \"text\": docs[i], \"subject\": \"history\"}\n",
    "    for i in range(len(vectors))\n",
    "]\n",
    "\n",
    "print(\"Data has\", len(data), \"entities, each with fields: \", data[0].keys())\n",
    "print(\"Vector dim:\", len(data[0][\"vector\"]))"
   ]
  },
  {
   "cell_type": "code",
   "execution_count": null,
   "id": "3798b576-7ccf-47aa-b59a-20f8d1ff81d4",
   "metadata": {},
   "outputs": [],
   "source": []
  },
  {
   "cell_type": "code",
   "execution_count": 9,
   "id": "72915a04-9cf1-4b8e-8404-f8db5a9a89b0",
   "metadata": {},
   "outputs": [],
   "source": [
    "from pymilvus import connections, db\n",
    "\n",
    "conn = connections.connect(host=\"192.168.1.44\", port=19530)\n",
    "\n",
    "database = db.create_database(\"milvus_demo\")"
   ]
  },
  {
   "cell_type": "code",
   "execution_count": null,
   "id": "c2b62632-e6d0-40c5-8124-f6f04ae19913",
   "metadata": {},
   "outputs": [],
   "source": []
  }
 ],
 "metadata": {
  "kernelspec": {
   "display_name": "Python 3 (ipykernel)",
   "language": "python",
   "name": "python3"
  },
  "language_info": {
   "codemirror_mode": {
    "name": "ipython",
    "version": 3
   },
   "file_extension": ".py",
   "mimetype": "text/x-python",
   "name": "python",
   "nbconvert_exporter": "python",
   "pygments_lexer": "ipython3",
   "version": "3.8.10"
  }
 },
 "nbformat": 4,
 "nbformat_minor": 5
}
