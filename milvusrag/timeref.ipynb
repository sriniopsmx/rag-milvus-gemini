{
 "cells": [
  {
   "cell_type": "code",
   "execution_count": 7,
   "id": "63e16014-4322-4a92-b0f3-a5ef35a60005",
   "metadata": {},
   "outputs": [
    {
     "name": "stdout",
     "output_type": "stream",
     "text": [
      "2024-08-05 16:29:57.235756\n"
     ]
    }
   ],
   "source": [
    "import datetime\n",
    "import time\n",
    "dt1 = datetime.datetime.now()\n",
    "print(dt1)"
   ]
  },
  {
   "cell_type": "code",
   "execution_count": 8,
   "id": "6edd2d6b-f07e-44eb-bee8-822088c00fe2",
   "metadata": {},
   "outputs": [],
   "source": [
    "time.sleep(30)"
   ]
  },
  {
   "cell_type": "code",
   "execution_count": 9,
   "id": "6b276aa4-e0db-47eb-91a5-aea53f347435",
   "metadata": {},
   "outputs": [
    {
     "name": "stdout",
     "output_type": "stream",
     "text": [
      "2024-08-05 16:30:27.256955\n"
     ]
    }
   ],
   "source": [
    "dt2 = datetime.datetime.now()\n",
    "print(dt2)"
   ]
  },
  {
   "cell_type": "code",
   "execution_count": 10,
   "id": "3c7e01ec-edd7-4102-8b74-33681e7f7031",
   "metadata": {},
   "outputs": [],
   "source": [
    "tSpent=dt2-dt1\n",
    "secs = tSpent.total_seconds()"
   ]
  },
  {
   "cell_type": "code",
   "execution_count": 11,
   "id": "09559949-0110-46a3-9d3e-5bce01923e7c",
   "metadata": {},
   "outputs": [
    {
     "name": "stdout",
     "output_type": "stream",
     "text": [
      "30.021199\n"
     ]
    }
   ],
   "source": [
    "print(secs)"
   ]
  },
  {
   "cell_type": "code",
   "execution_count": 12,
   "id": "78af1271-f448-48cd-bbb8-e1f137628d9e",
   "metadata": {},
   "outputs": [
    {
     "name": "stdout",
     "output_type": "stream",
     "text": [
      "Hours: 0  Mins: 0 30.021199\n"
     ]
    }
   ],
   "source": [
    "print( \"Hours:\", int(secs/(60*60)), \" Mins:\", int(secs/(60)), secs )"
   ]
  },
  {
   "cell_type": "code",
   "execution_count": null,
   "id": "1e97d5c2-aba1-4dd9-bfb5-02d6173ae140",
   "metadata": {},
   "outputs": [],
   "source": []
  }
 ],
 "metadata": {
  "kernelspec": {
   "display_name": "Python 3 (ipykernel)",
   "language": "python",
   "name": "python3"
  },
  "language_info": {
   "codemirror_mode": {
    "name": "ipython",
    "version": 3
   },
   "file_extension": ".py",
   "mimetype": "text/x-python",
   "name": "python",
   "nbconvert_exporter": "python",
   "pygments_lexer": "ipython3",
   "version": "3.8.10"
  }
 },
 "nbformat": 4,
 "nbformat_minor": 5
}
