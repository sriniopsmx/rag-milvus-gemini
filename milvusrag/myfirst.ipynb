{
 "cells": [
  {
   "cell_type": "code",
   "execution_count": 5,
   "id": "cec2bec5-bf0c-4520-bda8-325282bd9abb",
   "metadata": {},
   "outputs": [],
   "source": [
    "import pandas as pd"
   ]
  },
  {
   "cell_type": "code",
   "execution_count": 6,
   "id": "13324fe1-f424-4537-a70b-326e298443b6",
   "metadata": {},
   "outputs": [],
   "source": [
    "import numpy as np"
   ]
  },
  {
   "cell_type": "code",
   "execution_count": 89,
   "id": "70706d02-d219-42a7-bb80-26c9f067669a",
   "metadata": {},
   "outputs": [],
   "source": [
    "import json"
   ]
  },
  {
   "cell_type": "code",
   "execution_count": 117,
   "id": "b638a5fe-5ab6-48f9-a74f-8f6bcada7aab",
   "metadata": {},
   "outputs": [],
   "source": [
    "x = pd.read_excel(io=\"/Users/srinivas.kambhampati/AI-ML/CiscoTaskTracker.xlsx\", sheet_name=\"Gemini-test\",header=0)"
   ]
  },
  {
   "cell_type": "code",
   "execution_count": 118,
   "id": "b56031ba-ac19-4550-a421-0833292b3484",
   "metadata": {},
   "outputs": [
    {
     "data": {
      "text/plain": [
       "(230, 5)"
      ]
     },
     "execution_count": 118,
     "metadata": {},
     "output_type": "execute_result"
    }
   ],
   "source": [
    "x.shape"
   ]
  },
  {
   "cell_type": "code",
   "execution_count": 119,
   "id": "a4bcd1b5-3cfe-4a98-811c-11426c9f8acb",
   "metadata": {},
   "outputs": [
    {
     "data": {
      "text/plain": [
       "Index(['Issue', 'Incident Description', 'Responses', 'Context', 'Unnamed: 4'], dtype='object')"
      ]
     },
     "execution_count": 119,
     "metadata": {},
     "output_type": "execute_result"
    }
   ],
   "source": [
    "x.columns"
   ]
  },
  {
   "cell_type": "code",
   "execution_count": 74,
   "id": "0606375a-1d05-43ba-b8ec-1b519bfaf2de",
   "metadata": {},
   "outputs": [
    {
     "data": {
      "text/html": [
       "<div>\n",
       "<style scoped>\n",
       "    .dataframe tbody tr th:only-of-type {\n",
       "        vertical-align: middle;\n",
       "    }\n",
       "\n",
       "    .dataframe tbody tr th {\n",
       "        vertical-align: top;\n",
       "    }\n",
       "\n",
       "    .dataframe thead th {\n",
       "        text-align: right;\n",
       "    }\n",
       "</style>\n",
       "<table border=\"1\" class=\"dataframe\">\n",
       "  <thead>\n",
       "    <tr style=\"text-align: right;\">\n",
       "      <th></th>\n",
       "      <th>Problem Statement</th>\n",
       "      <th>Incident Description</th>\n",
       "      <th>Opsmx Questions &amp; Responses for the incidents</th>\n",
       "      <th>Support Team</th>\n",
       "      <th>Unnamed: 4</th>\n",
       "    </tr>\n",
       "  </thead>\n",
       "  <tbody>\n",
       "    <tr>\n",
       "      <th>0</th>\n",
       "      <td>User want to know is it possible to configure ...</td>\n",
       "      <td>Hi Team,\\nINC9078040\\nissue: User want to know...</td>\n",
       "      <td>1)Opsmx replied as:-where in spinnaker it is a...</td>\n",
       "      <td>For dev pipelines user can add themselves in p...</td>\n",
       "      <td>NaN</td>\n",
       "    </tr>\n",
       "    <tr>\n",
       "      <th>1</th>\n",
       "      <td>Spinnaker 4 Kubeconfig update 15 mins (Token e...</td>\n",
       "      <td>Hi Opsmx ,\\nMay i know if any testing is going...</td>\n",
       "      <td>Opsmx asked user to try once again.</td>\n",
       "      <td>monitor for 15 mins aftre token update the job...</td>\n",
       "      <td>NaN</td>\n",
       "    </tr>\n",
       "    <tr>\n",
       "      <th>2</th>\n",
       "      <td>Error loading config file</td>\n",
       "      <td>Hi Yeshashwini / OpsMx,\\n\\nDeployment are fail...</td>\n",
       "      <td>1)Opsmx suggested as need to check the Logs fo...</td>\n",
       "      <td>monitor for 15 mins aftre token update the job...</td>\n",
       "      <td>NaN</td>\n",
       "    </tr>\n",
       "    <tr>\n",
       "      <th>3</th>\n",
       "      <td>\\nDeployment failed due to error with Anypoint...</td>\n",
       "      <td>Hi Yeshashwini/ OpsMx\\n\\nINC9097548\\nIssue: sp...</td>\n",
       "      <td>Opsmx suggested user need to check with anypo...</td>\n",
       "      <td>Need to check with anypoint platform team.</td>\n",
       "      <td>NaN</td>\n",
       "    </tr>\n",
       "    <tr>\n",
       "      <th>4</th>\n",
       "      <td>Exception in Dev env. related to GitHub ,\\nRep...</td>\n",
       "      <td>Hi Yeshashwini/ Opsmx\\nSpinnaker deployment is...</td>\n",
       "      <td>Opsmx suggested as:- \\n1)Can you check with gi...</td>\n",
       "      <td>As the error clearly shows 404 status for gith...</td>\n",
       "      <td>NaN</td>\n",
       "    </tr>\n",
       "  </tbody>\n",
       "</table>\n",
       "</div>"
      ],
      "text/plain": [
       "                                   Problem Statement  \\\n",
       "0  User want to know is it possible to configure ...   \n",
       "1  Spinnaker 4 Kubeconfig update 15 mins (Token e...   \n",
       "2                          Error loading config file   \n",
       "3  \\nDeployment failed due to error with Anypoint...   \n",
       "4  Exception in Dev env. related to GitHub ,\\nRep...   \n",
       "\n",
       "                                Incident Description  \\\n",
       "0  Hi Team,\\nINC9078040\\nissue: User want to know...   \n",
       "1  Hi Opsmx ,\\nMay i know if any testing is going...   \n",
       "2  Hi Yeshashwini / OpsMx,\\n\\nDeployment are fail...   \n",
       "3  Hi Yeshashwini/ OpsMx\\n\\nINC9097548\\nIssue: sp...   \n",
       "4  Hi Yeshashwini/ Opsmx\\nSpinnaker deployment is...   \n",
       "\n",
       "       Opsmx Questions & Responses for the incidents  \\\n",
       "0  1)Opsmx replied as:-where in spinnaker it is a...   \n",
       "1                Opsmx asked user to try once again.   \n",
       "2  1)Opsmx suggested as need to check the Logs fo...   \n",
       "3   Opsmx suggested user need to check with anypo...   \n",
       "4  Opsmx suggested as:- \\n1)Can you check with gi...   \n",
       "\n",
       "                                       Support Team  Unnamed: 4  \n",
       "0  For dev pipelines user can add themselves in p...        NaN  \n",
       "1  monitor for 15 mins aftre token update the job...        NaN  \n",
       "2  monitor for 15 mins aftre token update the job...        NaN  \n",
       "3         Need to check with anypoint platform team.        NaN  \n",
       "4  As the error clearly shows 404 status for gith...        NaN  "
      ]
     },
     "execution_count": 74,
     "metadata": {},
     "output_type": "execute_result"
    }
   ],
   "source": [
    "x.head()"
   ]
  },
  {
   "cell_type": "raw",
   "id": "90514278-a2a8-404a-ba69-46fa3e5004be",
   "metadata": {},
   "source": [
    "x.sample"
   ]
  },
  {
   "cell_type": "code",
   "execution_count": 97,
   "id": "a9ce4a6c-8688-48cd-9fd7-53bd1eb84214",
   "metadata": {},
   "outputs": [],
   "source": [
    "x.dropna(axis=0,how=\"all\",inplace=True)"
   ]
  },
  {
   "cell_type": "code",
   "execution_count": 102,
   "id": "72cdb9f9-a933-41e5-a0de-96ebabc8ade3",
   "metadata": {},
   "outputs": [
    {
     "data": {
      "text/plain": [
       "(215, 5)"
      ]
     },
     "execution_count": 102,
     "metadata": {},
     "output_type": "execute_result"
    }
   ],
   "source": [
    "x.shape"
   ]
  },
  {
   "cell_type": "markdown",
   "id": "71719178-4c7e-4545-b779-722e9d1219ac",
   "metadata": {},
   "source": [
    "#Title"
   ]
  },
  {
   "cell_type": "markdown",
   "id": "a5e1b147-b22f-452d-8f0b-7289905f5313",
   "metadata": {},
   "source": [
    "# Title"
   ]
  },
  {
   "cell_type": "code",
   "execution_count": 99,
   "id": "a416f230-bfd3-414a-b3ef-00050d70040f",
   "metadata": {},
   "outputs": [],
   "source": [
    "x.drop_duplicates(inplace=True)"
   ]
  },
  {
   "cell_type": "code",
   "execution_count": 103,
   "id": "688fd746-e133-4c35-8a1a-dddfa0cfd42f",
   "metadata": {},
   "outputs": [
    {
     "data": {
      "text/html": [
       "<div>\n",
       "<style scoped>\n",
       "    .dataframe tbody tr th:only-of-type {\n",
       "        vertical-align: middle;\n",
       "    }\n",
       "\n",
       "    .dataframe tbody tr th {\n",
       "        vertical-align: top;\n",
       "    }\n",
       "\n",
       "    .dataframe thead th {\n",
       "        text-align: right;\n",
       "    }\n",
       "</style>\n",
       "<table border=\"1\" class=\"dataframe\">\n",
       "  <thead>\n",
       "    <tr style=\"text-align: right;\">\n",
       "      <th></th>\n",
       "      <th>Issue</th>\n",
       "      <th>Incident Description</th>\n",
       "      <th>Responses</th>\n",
       "      <th>Context</th>\n",
       "    </tr>\n",
       "  </thead>\n",
       "  <tbody>\n",
       "    <tr>\n",
       "      <th>0</th>\n",
       "      <td>User want to know is it possible to configure ...</td>\n",
       "      <td>Hi Team,\\nINC9078040\\nissue: User want to know...</td>\n",
       "      <td>1)Opsmx replied as:-where in spinnaker it is a...</td>\n",
       "      <td>For dev pipelines user can add themselves in p...</td>\n",
       "    </tr>\n",
       "    <tr>\n",
       "      <th>1</th>\n",
       "      <td>Spinnaker 4 Kubeconfig update 15 mins (Token e...</td>\n",
       "      <td>Hi Opsmx ,\\nMay i know if any testing is going...</td>\n",
       "      <td>Opsmx asked user to try once again.</td>\n",
       "      <td>monitor for 15 mins aftre token update the job...</td>\n",
       "    </tr>\n",
       "    <tr>\n",
       "      <th>2</th>\n",
       "      <td>Error loading config file</td>\n",
       "      <td>Hi Yeshashwini / OpsMx,\\n\\nDeployment are fail...</td>\n",
       "      <td>1)Opsmx suggested as need to check the Logs fo...</td>\n",
       "      <td>monitor for 15 mins aftre token update the job...</td>\n",
       "    </tr>\n",
       "    <tr>\n",
       "      <th>3</th>\n",
       "      <td>\\nDeployment failed due to error with Anypoint...</td>\n",
       "      <td>Hi Yeshashwini/ OpsMx\\n\\nINC9097548\\nIssue: sp...</td>\n",
       "      <td>Opsmx suggested user need to check with anypo...</td>\n",
       "      <td>Need to check with anypoint platform team.</td>\n",
       "    </tr>\n",
       "    <tr>\n",
       "      <th>4</th>\n",
       "      <td>Exception in Dev env. related to GitHub ,\\nRep...</td>\n",
       "      <td>Hi Yeshashwini/ Opsmx\\nSpinnaker deployment is...</td>\n",
       "      <td>Opsmx suggested as:- \\n1)Can you check with gi...</td>\n",
       "      <td>As the error clearly shows 404 status for gith...</td>\n",
       "    </tr>\n",
       "    <tr>\n",
       "      <th>...</th>\n",
       "      <td>...</td>\n",
       "      <td>...</td>\n",
       "      <td>...</td>\n",
       "      <td>...</td>\n",
       "    </tr>\n",
       "    <tr>\n",
       "      <th>225</th>\n",
       "      <td>Spinnaker stage and lt deployment Spinnaker 2</td>\n",
       "      <td>Hi OpsMx,\\n\\nSpinnaker stage and lt deployment...</td>\n",
       "      <td>Customer Acknowledged that Latest deployment i...</td>\n",
       "      <td>NaN</td>\n",
       "    </tr>\n",
       "    <tr>\n",
       "      <th>226</th>\n",
       "      <td>Spinnaker event URL is taking both POM and JAR...</td>\n",
       "      <td>Spinnaker deployment is failing with below err...</td>\n",
       "      <td>Opsmx team replied as\\nUser provided the artif...</td>\n",
       "      <td>check the artifactUrl</td>\n",
       "    </tr>\n",
       "    <tr>\n",
       "      <th>227</th>\n",
       "      <td>Unable to download the contents of artifact Ar...</td>\n",
       "      <td>reg INC9633304\\nSpinnaker deployment is failin...</td>\n",
       "      <td>\"Opsmx team suggested that\\n1. its  says 404 p...</td>\n",
       "      <td>issue is resolved in the meet</td>\n",
       "    </tr>\n",
       "    <tr>\n",
       "      <th>228</th>\n",
       "      <td>pipeline is failing with creds issue in spinna...</td>\n",
       "      <td>Hi OpsMx, can you please check if this org is ...</td>\n",
       "      <td>Opsmx team suggested that\\n1. this issue occur...</td>\n",
       "      <td>reindex the branches in Jenkins</td>\n",
       "    </tr>\n",
       "    <tr>\n",
       "      <th>229</th>\n",
       "      <td>Spinakker Build is failing in spinnaker 3</td>\n",
       "      <td>Hi OpsMx,\\n\\nSpinakker Build is failing with b...</td>\n",
       "      <td>Opsmx team asked customer that ask user, if im...</td>\n",
       "      <td>NaN</td>\n",
       "    </tr>\n",
       "  </tbody>\n",
       "</table>\n",
       "<p>215 rows × 4 columns</p>\n",
       "</div>"
      ],
      "text/plain": [
       "                                                 Issue  \\\n",
       "0    User want to know is it possible to configure ...   \n",
       "1    Spinnaker 4 Kubeconfig update 15 mins (Token e...   \n",
       "2                            Error loading config file   \n",
       "3    \\nDeployment failed due to error with Anypoint...   \n",
       "4    Exception in Dev env. related to GitHub ,\\nRep...   \n",
       "..                                                 ...   \n",
       "225      Spinnaker stage and lt deployment Spinnaker 2   \n",
       "226  Spinnaker event URL is taking both POM and JAR...   \n",
       "227  Unable to download the contents of artifact Ar...   \n",
       "228  pipeline is failing with creds issue in spinna...   \n",
       "229          Spinakker Build is failing in spinnaker 3   \n",
       "\n",
       "                                  Incident Description  \\\n",
       "0    Hi Team,\\nINC9078040\\nissue: User want to know...   \n",
       "1    Hi Opsmx ,\\nMay i know if any testing is going...   \n",
       "2    Hi Yeshashwini / OpsMx,\\n\\nDeployment are fail...   \n",
       "3    Hi Yeshashwini/ OpsMx\\n\\nINC9097548\\nIssue: sp...   \n",
       "4    Hi Yeshashwini/ Opsmx\\nSpinnaker deployment is...   \n",
       "..                                                 ...   \n",
       "225  Hi OpsMx,\\n\\nSpinnaker stage and lt deployment...   \n",
       "226  Spinnaker deployment is failing with below err...   \n",
       "227  reg INC9633304\\nSpinnaker deployment is failin...   \n",
       "228  Hi OpsMx, can you please check if this org is ...   \n",
       "229  Hi OpsMx,\\n\\nSpinakker Build is failing with b...   \n",
       "\n",
       "                                             Responses  \\\n",
       "0    1)Opsmx replied as:-where in spinnaker it is a...   \n",
       "1                  Opsmx asked user to try once again.   \n",
       "2    1)Opsmx suggested as need to check the Logs fo...   \n",
       "3     Opsmx suggested user need to check with anypo...   \n",
       "4    Opsmx suggested as:- \\n1)Can you check with gi...   \n",
       "..                                                 ...   \n",
       "225  Customer Acknowledged that Latest deployment i...   \n",
       "226  Opsmx team replied as\\nUser provided the artif...   \n",
       "227  \"Opsmx team suggested that\\n1. its  says 404 p...   \n",
       "228  Opsmx team suggested that\\n1. this issue occur...   \n",
       "229  Opsmx team asked customer that ask user, if im...   \n",
       "\n",
       "                                               Context  \n",
       "0    For dev pipelines user can add themselves in p...  \n",
       "1    monitor for 15 mins aftre token update the job...  \n",
       "2    monitor for 15 mins aftre token update the job...  \n",
       "3           Need to check with anypoint platform team.  \n",
       "4    As the error clearly shows 404 status for gith...  \n",
       "..                                                 ...  \n",
       "225                                                NaN  \n",
       "226                              check the artifactUrl  \n",
       "227                      issue is resolved in the meet  \n",
       "228                    reindex the branches in Jenkins  \n",
       "229                                                NaN  \n",
       "\n",
       "[215 rows x 4 columns]"
      ]
     },
     "execution_count": 103,
     "metadata": {},
     "output_type": "execute_result"
    }
   ],
   "source": [
    "x.drop(x.columns[4],axis=1)"
   ]
  },
  {
   "cell_type": "code",
   "execution_count": 106,
   "id": "84b5418f-5e87-48a5-84a0-e4e42e47d879",
   "metadata": {},
   "outputs": [],
   "source": [
    "df = x.fillna(\"Not Available\")"
   ]
  },
  {
   "cell_type": "code",
   "execution_count": 108,
   "id": "d515fe1b-f231-4d30-84ba-f642ade4abba",
   "metadata": {},
   "outputs": [
    {
     "data": {
      "text/plain": [
       "(215, 5)"
      ]
     },
     "execution_count": 108,
     "metadata": {},
     "output_type": "execute_result"
    }
   ],
   "source": [
    "df.shape"
   ]
  },
  {
   "cell_type": "code",
   "execution_count": 109,
   "id": "8a682cba-15d3-4531-9280-24f1bd186fed",
   "metadata": {},
   "outputs": [],
   "source": [
    "df.drop(df.columns[4],axis=1,inplace=True)"
   ]
  },
  {
   "cell_type": "code",
   "execution_count": 110,
   "id": "b9ec28af-39d2-4c11-8ea5-e8db18e1bd1a",
   "metadata": {},
   "outputs": [
    {
     "data": {
      "text/plain": [
       "(215, 4)"
      ]
     },
     "execution_count": 110,
     "metadata": {},
     "output_type": "execute_result"
    }
   ],
   "source": [
    "df.shape"
   ]
  },
  {
   "cell_type": "code",
   "execution_count": 112,
   "id": "7f33f206-772b-4ed6-88ac-9c16af3ee708",
   "metadata": {},
   "outputs": [
    {
     "data": {
      "text/html": [
       "<div>\n",
       "<style scoped>\n",
       "    .dataframe tbody tr th:only-of-type {\n",
       "        vertical-align: middle;\n",
       "    }\n",
       "\n",
       "    .dataframe tbody tr th {\n",
       "        vertical-align: top;\n",
       "    }\n",
       "\n",
       "    .dataframe thead th {\n",
       "        text-align: right;\n",
       "    }\n",
       "</style>\n",
       "<table border=\"1\" class=\"dataframe\">\n",
       "  <thead>\n",
       "    <tr style=\"text-align: right;\">\n",
       "      <th></th>\n",
       "      <th>Issue</th>\n",
       "      <th>Incident Description</th>\n",
       "      <th>Responses</th>\n",
       "      <th>Context</th>\n",
       "    </tr>\n",
       "  </thead>\n",
       "  <tbody>\n",
       "    <tr>\n",
       "      <th>0</th>\n",
       "      <td>User want to know is it possible to configure ...</td>\n",
       "      <td>Hi Team,\\nINC9078040\\nissue: User want to know...</td>\n",
       "      <td>1)Opsmx replied as:-where in spinnaker it is a...</td>\n",
       "      <td>For dev pipelines user can add themselves in p...</td>\n",
       "    </tr>\n",
       "    <tr>\n",
       "      <th>1</th>\n",
       "      <td>Spinnaker 4 Kubeconfig update 15 mins (Token e...</td>\n",
       "      <td>Hi Opsmx ,\\nMay i know if any testing is going...</td>\n",
       "      <td>Opsmx asked user to try once again.</td>\n",
       "      <td>monitor for 15 mins aftre token update the job...</td>\n",
       "    </tr>\n",
       "    <tr>\n",
       "      <th>2</th>\n",
       "      <td>Error loading config file</td>\n",
       "      <td>Hi Yeshashwini / OpsMx,\\n\\nDeployment are fail...</td>\n",
       "      <td>1)Opsmx suggested as need to check the Logs fo...</td>\n",
       "      <td>monitor for 15 mins aftre token update the job...</td>\n",
       "    </tr>\n",
       "    <tr>\n",
       "      <th>3</th>\n",
       "      <td>\\nDeployment failed due to error with Anypoint...</td>\n",
       "      <td>Hi Yeshashwini/ OpsMx\\n\\nINC9097548\\nIssue: sp...</td>\n",
       "      <td>Opsmx suggested user need to check with anypo...</td>\n",
       "      <td>Need to check with anypoint platform team.</td>\n",
       "    </tr>\n",
       "    <tr>\n",
       "      <th>4</th>\n",
       "      <td>Exception in Dev env. related to GitHub ,\\nRep...</td>\n",
       "      <td>Hi Yeshashwini/ Opsmx\\nSpinnaker deployment is...</td>\n",
       "      <td>Opsmx suggested as:- \\n1)Can you check with gi...</td>\n",
       "      <td>As the error clearly shows 404 status for gith...</td>\n",
       "    </tr>\n",
       "    <tr>\n",
       "      <th>5</th>\n",
       "      <td>Cannot connect to the Docker daemon</td>\n",
       "      <td>Hi Yeshashwini\\nReg INC9104019\\n\\nSpinnaker de...</td>\n",
       "      <td>Opsmx replied as:-  We will check</td>\n",
       "      <td>Team has resolved the issue</td>\n",
       "    </tr>\n",
       "    <tr>\n",
       "      <th>6</th>\n",
       "      <td>logs are showing as blank , due to which user ...</td>\n",
       "      <td>Hi Yeshashwini/ Opsmx/ Ganguly\\nReg INC9113735...</td>\n",
       "      <td>Opsmx suggested as:- \\n1)I can see the logs fo...</td>\n",
       "      <td>Check where it was either a problem with their...</td>\n",
       "    </tr>\n",
       "    <tr>\n",
       "      <th>7</th>\n",
       "      <td>Access denied to account cae-np-rtp2-dev-42485c</td>\n",
       "      <td>Hi Yeshashwini/ Opsmx,\\n\\nReg: INC9112219\\n\\nS...</td>\n",
       "      <td>Opsmx suggested as:- \\n1)Can you ask user to e...</td>\n",
       "      <td>Have to edit code deploy section. It will upda...</td>\n",
       "    </tr>\n",
       "    <tr>\n",
       "      <th>8</th>\n",
       "      <td>deployment in Spinnaker stage environment is ...</td>\n",
       "      <td>Hi Yeshashwini / Opsmx,\\nRegarding Incident IN...</td>\n",
       "      <td>Opsmx suggested as:- \\n1)Seems like some yaml ...</td>\n",
       "      <td>Yaml issue have to compare the deployment and ...</td>\n",
       "    </tr>\n",
       "    <tr>\n",
       "      <th>9</th>\n",
       "      <td>Save changes toggle/button is not getting enab...</td>\n",
       "      <td>Hi Yeshashwini/ Opsmx , reg INC9124793\\n\\nSave...</td>\n",
       "      <td>Opsmx suggested as:- \\n1)Users cannot edit sta...</td>\n",
       "      <td>Add a parameters for this pipeline.</td>\n",
       "    </tr>\n",
       "  </tbody>\n",
       "</table>\n",
       "</div>"
      ],
      "text/plain": [
       "                                               Issue  \\\n",
       "0  User want to know is it possible to configure ...   \n",
       "1  Spinnaker 4 Kubeconfig update 15 mins (Token e...   \n",
       "2                          Error loading config file   \n",
       "3  \\nDeployment failed due to error with Anypoint...   \n",
       "4  Exception in Dev env. related to GitHub ,\\nRep...   \n",
       "5               Cannot connect to the Docker daemon    \n",
       "6  logs are showing as blank , due to which user ...   \n",
       "7    Access denied to account cae-np-rtp2-dev-42485c   \n",
       "8   deployment in Spinnaker stage environment is ...   \n",
       "9  Save changes toggle/button is not getting enab...   \n",
       "\n",
       "                                Incident Description  \\\n",
       "0  Hi Team,\\nINC9078040\\nissue: User want to know...   \n",
       "1  Hi Opsmx ,\\nMay i know if any testing is going...   \n",
       "2  Hi Yeshashwini / OpsMx,\\n\\nDeployment are fail...   \n",
       "3  Hi Yeshashwini/ OpsMx\\n\\nINC9097548\\nIssue: sp...   \n",
       "4  Hi Yeshashwini/ Opsmx\\nSpinnaker deployment is...   \n",
       "5  Hi Yeshashwini\\nReg INC9104019\\n\\nSpinnaker de...   \n",
       "6  Hi Yeshashwini/ Opsmx/ Ganguly\\nReg INC9113735...   \n",
       "7  Hi Yeshashwini/ Opsmx,\\n\\nReg: INC9112219\\n\\nS...   \n",
       "8  Hi Yeshashwini / Opsmx,\\nRegarding Incident IN...   \n",
       "9  Hi Yeshashwini/ Opsmx , reg INC9124793\\n\\nSave...   \n",
       "\n",
       "                                           Responses  \\\n",
       "0  1)Opsmx replied as:-where in spinnaker it is a...   \n",
       "1                Opsmx asked user to try once again.   \n",
       "2  1)Opsmx suggested as need to check the Logs fo...   \n",
       "3   Opsmx suggested user need to check with anypo...   \n",
       "4  Opsmx suggested as:- \\n1)Can you check with gi...   \n",
       "5                  Opsmx replied as:-  We will check   \n",
       "6  Opsmx suggested as:- \\n1)I can see the logs fo...   \n",
       "7  Opsmx suggested as:- \\n1)Can you ask user to e...   \n",
       "8  Opsmx suggested as:- \\n1)Seems like some yaml ...   \n",
       "9  Opsmx suggested as:- \\n1)Users cannot edit sta...   \n",
       "\n",
       "                                             Context  \n",
       "0  For dev pipelines user can add themselves in p...  \n",
       "1  monitor for 15 mins aftre token update the job...  \n",
       "2  monitor for 15 mins aftre token update the job...  \n",
       "3         Need to check with anypoint platform team.  \n",
       "4  As the error clearly shows 404 status for gith...  \n",
       "5                        Team has resolved the issue  \n",
       "6  Check where it was either a problem with their...  \n",
       "7  Have to edit code deploy section. It will upda...  \n",
       "8  Yaml issue have to compare the deployment and ...  \n",
       "9                Add a parameters for this pipeline.  "
      ]
     },
     "execution_count": 112,
     "metadata": {},
     "output_type": "execute_result"
    }
   ],
   "source": [
    "df.head(10)"
   ]
  },
  {
   "cell_type": "code",
   "execution_count": 70,
   "id": "e23571d4-161d-4104-ac1b-c46274cef76f",
   "metadata": {},
   "outputs": [],
   "source": [
    "df.iloc[1,1] = \"XXX\""
   ]
  },
  {
   "cell_type": "code",
   "execution_count": 72,
   "id": "1df527af-1a1f-4d6b-bafe-5c9e4f573111",
   "metadata": {},
   "outputs": [
    {
     "data": {
      "text/plain": [
       "'                                                              Problem Statement                                                                                                                                                                                                                                                                                                                                                                                                                                                                                                                                                                                                                                                                                                                                                                                                                                                                                                                                                                                                                                                                                                                                                                                                                                                                                                                                                                                                  Incident Description                                                                                                                                                                                                                                                                                                                                                                                                                                            Opsmx Questions & Responses for the incidents                                                                                                                                           Support Team \\n0  User want to know is it possible to configure conjur api key with spinnaker                                                                                                                                                                                                                                                                                                                                                                                                                                                                                                                                                                                                                                                                                                                                                                                                                                                                                               Hi Team,\\\\nINC9078040\\\\nissue: User want to know is it possible to configure conjur api key with spinnaker \\\\n\\\\nInitially they were  pulling the GCP credentials from Conjur in Jenkins and passing it to spinnaker through temp file,\\\\nas they don\\'t have conjur integration with spinnaker in initial days of there project\\\\n\\\\nNow they can see that Spinnaker is capable of connecting/communicating with Conjur,\\\\nthey want to know how we can update the conjur api key and default methods to get connect with Conjur                                                              1)Opsmx replied as:-where in spinnaker it is actually required, is it in custom job ?                                                                                             2) Opsmx clarified as:- For BYOS Pipeline user can add this conjur-api-key parameter. For dev pipelines user can add themselves in pipeline configuration. But for stage and prod pipelines we can add the parameter and value for them .  For dev pipelines user can add themselves in pipeline configuration. But for stage and prod pipelines Opsmx can add the parameter and value for them .\\n1           Spinnaker 4 Kubeconfig update 15 mins (Token expires every 30 mins)                                                                                                                                                                                                                                                                                                                                                                                                                                                                                                                                                                                                                                                                                                                                                                                                                                                                                                                                                                                                                                                                                                                                                                                                                                                                                                                                                                                                                   XXX                                                                                                                                                                                                                                                                                                                                                                                                                                                      Opsmx asked user to try once again.     monitor for 15 mins aftre token update the job will be completed,\\\\neven after 45 mins if the issue persists then report the issue\\\\n\\\\nRepeated issue\\n2                                                     Error loading config file                                                                                                                                                                                                                                                                                                                                                                                                                                                                                                                                                                                                                                                                                                                               Hi Yeshashwini / OpsMx,\\\\n\\\\nDeployment are failing with\\\\n\\\\nException ( Monitor Deploy )\\\\nDeploy failed: error: error loading config file \"/tmp/k8configs/kubeconfig\": yaml: line 3: could not find expected \\':\\'\\\\n\\\\nSample deployment URL : https://spinnaker2.cisco.com/#/applications/mbr-ng/executions/01HKVKG874X85T7NX90DZA97XX?pipeline=mbr_ng%20(prod1)&stage=3&step=0&details=deployStatus\\\\n\\\\nPost creating a new release, deployments are getting success.\\\\n\\\\nUsers are worried that everytime they are creating a new release to get the deployment success and are asking Root cause and LTF for the issue .\\\\n\\\\nCould you please check and provide RCA and LTF for this issue.  1)Opsmx suggested as need to check the Logs for RCA, How many applications you see this error?                                                                    2)Opsmx replied as for this application I see this has happened for the very first time. So please check if they are facing issue with other applications as well.                                                                                                                                                      monitor for 15 mins aftre token update the job will be complleted,\\\\neven after 45 mins if the issue persits then report the issue\\\\n\\\\n\\\\nRepeated issue\\n3                      \\\\nDeployment failed due to error with Anypoint platform                                                                                                                                                                                                                                                                                                                                                                                                                                                                                                             Hi Yeshashwini/ OpsMx\\\\n\\\\nINC9097548\\\\nIssue: spinnaker dev deployment is failing\\\\n\\\\nerror: Exception ( Wait On Job Completion )\\\\nJob: \\'ciscomulesoftcontainer-6ckjt\\' failed. Reason: BackoffLimitExceeded. Details: Job has reached the specified backoff limit. Additional Details: Pod: \\'ciscomulesoftcontainer-6ckjt-5j77g\\' had errors. Container: \\'mulesoft\\' exited with code: 1. Status: Error. Logs: null\\\\n\\\\nconsole ouput its failing with below error\\\\nERROR ---\\\\n_x001b_[0;31mERROR --- New Deployment for 25027777 is failed_x001b_[0m\\\\nmulesoft_onprem.sh: line 103: [: ==: unary operator expected\\\\njson.decoder.JSONDecodeError: Expecting value: line 2 column 1 (char 1)\\\\nraise JSONDecodeError(\"Expecting value\", s, err.value) from None\\\\n\\\\nspinnaker URL: csonecdetsproxy · Pipeline Executions · Execution Details: 01HKSVVMRE6XCS0SYYH4C0WZ12 (cisco.com)\\\\n\\\\ncould you please help here                                                                                                                                                                                                                                                                                                                                                                                                                          Opsmx suggested user need to check with anypoint platform team.                                                                                                              Need to check with anypoint platform team.\\n4                     Exception in Dev env. related to GitHub ,\\\\nRepeated issue  Hi Yeshashwini/ Opsmx\\\\nSpinnaker deployment is failing with error                                                                                                                                                                                                                                                  1)Exception ( Resolve Deploy Source Manifest )\\\\n2)Unable to download the contents of artifact Artifact(type=http/file, customKind=false, name=config/cae-np-rcdn-nws-developers-dev-dev.yaml, version=f970ae0330e5d6dc45fa75289b86ed1fc4f1e128, location=null, reference=https://wwwin-github.cisco.com/raw/nws/neo-cr-bcp/f970ae0330e5d6dc45fa75289b86ed1fc4f1e128/config/cae-np-rcdn-nws-developers-dev-dev.yaml, metadata={}, artifactAccount=my-http-account, provenance=null, uuid=null): Received 404 status code from wwwin-github.cisco.com                                                                                                                                                                                                                cae-np-rcdn-nws-developers-dev-dev.yaml is present under git repository.\\\\nhttps://spinnaker8.cisco.com/#/applications/neo-cr-bcp/executions/01HKW0XD4NEDS8VBK96GK78WFM?stage=0&step=0&details=deployStatus\\\\nhttps://ci8.cisco.com/job/IT-GIS-CODE/job/NWSDEV/job/neo-cr-bcp/job/neo-cr-bcp/job/develop/\\\\nCould you please help                            Opsmx suggested as:- \\\\n1)Can you check with github team for the reference URL structure has changed or what, Because the URL clearly says its not able to find. \\\\n2)We are using the same gen account with SSH keys itself. Check the exact reference URL it says not found, and its not giving authorization error. Hope you can understand. \\\\n3)Please create a space with github team, so that we can discuss, what we have and what they are supporting.            As the error clearly shows 404 status for github url, they have to check if the github url for the yaml file is valid. \\\\n\\\\n\\\\n\\\\nRepeated Issue'"
      ]
     },
     "execution_count": 72,
     "metadata": {},
     "output_type": "execute_result"
    }
   ],
   "source": [
    "df.head(5).to_string()"
   ]
  },
  {
   "cell_type": "code",
   "execution_count": 73,
   "id": "7f365ceb-65ca-4d53-8d89-2fc2749d25a9",
   "metadata": {},
   "outputs": [
    {
     "data": {
      "text/html": [
       "<div>\n",
       "<style scoped>\n",
       "    .dataframe tbody tr th:only-of-type {\n",
       "        vertical-align: middle;\n",
       "    }\n",
       "\n",
       "    .dataframe tbody tr th {\n",
       "        vertical-align: top;\n",
       "    }\n",
       "\n",
       "    .dataframe thead th {\n",
       "        text-align: right;\n",
       "    }\n",
       "</style>\n",
       "<table border=\"1\" class=\"dataframe\">\n",
       "  <thead>\n",
       "    <tr style=\"text-align: right;\">\n",
       "      <th></th>\n",
       "      <th>Problem Statement</th>\n",
       "      <th>Incident Description</th>\n",
       "      <th>Opsmx Questions &amp; Responses for the incidents</th>\n",
       "      <th>Support Team</th>\n",
       "    </tr>\n",
       "  </thead>\n",
       "  <tbody>\n",
       "    <tr>\n",
       "      <th>0</th>\n",
       "      <td>User want to know is it possible to configure ...</td>\n",
       "      <td>Hi Team,\\nINC9078040\\nissue: User want to know...</td>\n",
       "      <td>1)Opsmx replied as:-where in spinnaker it is a...</td>\n",
       "      <td>For dev pipelines user can add themselves in p...</td>\n",
       "    </tr>\n",
       "    <tr>\n",
       "      <th>1</th>\n",
       "      <td>Spinnaker 4 Kubeconfig update 15 mins (Token e...</td>\n",
       "      <td>XXX</td>\n",
       "      <td>Opsmx asked user to try once again.</td>\n",
       "      <td>monitor for 15 mins aftre token update the job...</td>\n",
       "    </tr>\n",
       "    <tr>\n",
       "      <th>2</th>\n",
       "      <td>Error loading config file</td>\n",
       "      <td>Hi Yeshashwini / OpsMx,\\n\\nDeployment are fail...</td>\n",
       "      <td>1)Opsmx suggested as need to check the Logs fo...</td>\n",
       "      <td>monitor for 15 mins aftre token update the job...</td>\n",
       "    </tr>\n",
       "    <tr>\n",
       "      <th>3</th>\n",
       "      <td>\\nDeployment failed due to error with Anypoint...</td>\n",
       "      <td>Hi Yeshashwini/ OpsMx\\n\\nINC9097548\\nIssue: sp...</td>\n",
       "      <td>Opsmx suggested user need to check with anypo...</td>\n",
       "      <td>Need to check with anypoint platform team.</td>\n",
       "    </tr>\n",
       "    <tr>\n",
       "      <th>4</th>\n",
       "      <td>Exception in Dev env. related to GitHub ,\\nRep...</td>\n",
       "      <td>Hi Yeshashwini/ Opsmx\\nSpinnaker deployment is...</td>\n",
       "      <td>Opsmx suggested as:- \\n1)Can you check with gi...</td>\n",
       "      <td>As the error clearly shows 404 status for gith...</td>\n",
       "    </tr>\n",
       "  </tbody>\n",
       "</table>\n",
       "</div>"
      ],
      "text/plain": [
       "                                   Problem Statement  \\\n",
       "0  User want to know is it possible to configure ...   \n",
       "1  Spinnaker 4 Kubeconfig update 15 mins (Token e...   \n",
       "2                          Error loading config file   \n",
       "3  \\nDeployment failed due to error with Anypoint...   \n",
       "4  Exception in Dev env. related to GitHub ,\\nRep...   \n",
       "\n",
       "                                Incident Description  \\\n",
       "0  Hi Team,\\nINC9078040\\nissue: User want to know...   \n",
       "1                                                XXX   \n",
       "2  Hi Yeshashwini / OpsMx,\\n\\nDeployment are fail...   \n",
       "3  Hi Yeshashwini/ OpsMx\\n\\nINC9097548\\nIssue: sp...   \n",
       "4  Hi Yeshashwini/ Opsmx\\nSpinnaker deployment is...   \n",
       "\n",
       "       Opsmx Questions & Responses for the incidents  \\\n",
       "0  1)Opsmx replied as:-where in spinnaker it is a...   \n",
       "1                Opsmx asked user to try once again.   \n",
       "2  1)Opsmx suggested as need to check the Logs fo...   \n",
       "3   Opsmx suggested user need to check with anypo...   \n",
       "4  Opsmx suggested as:- \\n1)Can you check with gi...   \n",
       "\n",
       "                                       Support Team   \n",
       "0  For dev pipelines user can add themselves in p...  \n",
       "1  monitor for 15 mins aftre token update the job...  \n",
       "2  monitor for 15 mins aftre token update the job...  \n",
       "3         Need to check with anypoint platform team.  \n",
       "4  As the error clearly shows 404 status for gith...  "
      ]
     },
     "execution_count": 73,
     "metadata": {},
     "output_type": "execute_result"
    }
   ],
   "source": [
    "df.head()"
   ]
  },
  {
   "cell_type": "code",
   "execution_count": 114,
   "id": "77ad4ce3-7633-40d1-a9ec-5d49a1247d8c",
   "metadata": {},
   "outputs": [],
   "source": [
    "data = df.to_dict(orient='records')"
   ]
  },
  {
   "cell_type": "code",
   "execution_count": 115,
   "id": "a9ece22f-ac7f-4e4f-9dab-1c50d065a58d",
   "metadata": {},
   "outputs": [],
   "source": [
    "with open('/Users/srinivas.kambhampati/AI-ML/data.jsonl', 'wt') as f:\n",
    "    for item in data:\n",
    "      f.write(json.dumps(item) + '\\n')"
   ]
  },
  {
   "cell_type": "code",
   "execution_count": 116,
   "id": "419e004e-6ca5-4ffb-afc5-250820d5e49b",
   "metadata": {},
   "outputs": [],
   "source": [
    "f.close()"
   ]
  },
  {
   "cell_type": "code",
   "execution_count": null,
   "id": "9c0ee039-2c62-4a31-97a3-c75bb18f9f02",
   "metadata": {},
   "outputs": [],
   "source": []
  }
 ],
 "metadata": {
  "kernelspec": {
   "display_name": "Python 3 (ipykernel)",
   "language": "python",
   "name": "python3"
  },
  "language_info": {
   "codemirror_mode": {
    "name": "ipython",
    "version": 3
   },
   "file_extension": ".py",
   "mimetype": "text/x-python",
   "name": "python",
   "nbconvert_exporter": "python",
   "pygments_lexer": "ipython3",
   "version": "3.8.10"
  }
 },
 "nbformat": 4,
 "nbformat_minor": 5
}
