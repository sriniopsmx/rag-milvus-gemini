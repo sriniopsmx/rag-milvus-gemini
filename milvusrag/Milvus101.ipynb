{
 "cells": [
  {
   "cell_type": "markdown",
   "id": "f45dd07c-670f-4d6c-8e50-c7316001fb65",
   "metadata": {},
   "source": [
    "# Program to upload data into Milvus\n",
    "# !pip install -U pymilvus\n",
    "# !pip install \"pymilvus[model]\""
   ]
  },
  {
   "cell_type": "code",
   "execution_count": 1,
   "id": "5637e59b-ee9e-47f8-ba07-1963d3aee37c",
   "metadata": {},
   "outputs": [],
   "source": [
    "from pymilvus import MilvusClient, model,connections, db"
   ]
  },
  {
   "cell_type": "code",
   "execution_count": 2,
   "id": "8ec59949-7e26-4004-bc0e-7e28d43d74fc",
   "metadata": {},
   "outputs": [],
   "source": [
    "milHost=\"192.168.1.44\"\n",
    "milURI='http://192.168.1.44:19530'\n",
    "milDBname=\"milvus_demo\"\n",
    "modelDimention=768"
   ]
  },
  {
   "cell_type": "code",
   "execution_count": 3,
   "id": "de38e44f-5495-4510-940d-a79e66b14851",
   "metadata": {},
   "outputs": [],
   "source": [
    "# Create DB only once\n",
    "#conn = connections.connect(host=\"192.168.1.44\", port=19530)\n",
    "#database = db.create_database(\"milvus_demo\")"
   ]
  },
  {
   "cell_type": "code",
   "execution_count": 5,
   "id": "cc04f3ec-5ae9-4c33-8e66-acc1bf2e0fdd",
   "metadata": {},
   "outputs": [],
   "source": [
    "client = MilvusClient(uri=milURI,db_name=milDBname, overwrite=True)"
   ]
  },
  {
   "cell_type": "code",
   "execution_count": 6,
   "id": "e4bc9139-88bd-41c2-897a-fdc5f46fad91",
   "metadata": {},
   "outputs": [],
   "source": [
    "#Create a Collection (something like a \"table\" in RDBMS)\n",
    "if client.has_collection(collection_name=\"demo_collection\"):\n",
    "    client.drop_collection(collection_name=\"demo_collection\")\n",
    "client.create_collection(\n",
    "    collection_name=\"demo_collection\",\n",
    "    dimension=modelDimention,  # 768 dimensions, This should come from the \"embedding model that we use\"\n",
    ")"
   ]
  },
  {
   "cell_type": "code",
   "execution_count": 7,
   "id": "b15ba2d3-7f37-4801-b2a4-c0061e1d7166",
   "metadata": {},
   "outputs": [
    {
     "data": {
      "text/plain": [
       "['demo_collection']"
      ]
     },
     "execution_count": 7,
     "metadata": {},
     "output_type": "execute_result"
    }
   ],
   "source": [
    "#List Collections\n",
    "client.list_collections()"
   ]
  },
  {
   "cell_type": "code",
   "execution_count": 8,
   "id": "673c6845-af93-4157-87ab-6f4fc2579442",
   "metadata": {},
   "outputs": [],
   "source": [
    "# Default embedding model\n",
    "embedding_fn = model.DefaultEmbeddingFunction()"
   ]
  },
  {
   "cell_type": "code",
   "execution_count": 9,
   "id": "c039571e-2a8f-4d92-9889-afd9b52a24b9",
   "metadata": {},
   "outputs": [],
   "source": [
    "# Text strings to search from.\n",
    "docs = [\n",
    "    \"Artificial intelligence was founded as an academic discipline in 1956.\",\n",
    "    \"Alan Turing was the first person to conduct substantial research in AI.\",\n",
    "    \"Born in Maida Vale, London, Turing was raised in southern England.\",\n",
    "]\n"
   ]
  },
  {
   "cell_type": "code",
   "execution_count": 10,
   "id": "3e0f9a97-7031-4264-ab78-044be550058d",
   "metadata": {},
   "outputs": [
    {
     "name": "stdout",
     "output_type": "stream",
     "text": [
      "Dim: 768 (768,)\n"
     ]
    }
   ],
   "source": [
    "vectors = embedding_fn.encode_documents(docs)\n",
    "# The output vector has 768 dimensions, matching the collection that we just created.\n",
    "print(\"Dim:\", embedding_fn.dim, vectors[0].shape)  # Dim: 768 (768,)"
   ]
  },
  {
   "cell_type": "code",
   "execution_count": 11,
   "id": "47c5b799-e785-4686-b84e-83c4eb5083ac",
   "metadata": {},
   "outputs": [],
   "source": [
    "# Each entity has id, vector representation, raw text, and a subject label that we use\n",
    "# to demo metadata filtering later.\n",
    "data = [\n",
    "    {\"id\": i, \"vector\": vectors[i], \"text\": docs[i], \"subject\": \"history\"}\n",
    "    for i in range(len(vectors))\n",
    "]"
   ]
  },
  {
   "cell_type": "code",
   "execution_count": 12,
   "id": "daf516a5-4a5f-481e-8136-0e2302cc444b",
   "metadata": {},
   "outputs": [
    {
     "name": "stdout",
     "output_type": "stream",
     "text": [
      "Data has 3 entities, each with fields:  dict_keys(['id', 'vector', 'text', 'subject'])\n"
     ]
    }
   ],
   "source": [
    "print(\"Data has\", len(data), \"entities, each with fields: \", data[0].keys())"
   ]
  },
  {
   "cell_type": "code",
   "execution_count": 13,
   "id": "b6f1730a-9bfb-4316-9e30-0ba5d30346e5",
   "metadata": {},
   "outputs": [
    {
     "name": "stdout",
     "output_type": "stream",
     "text": [
      "Vector dim: 768\n"
     ]
    }
   ],
   "source": [
    "print(\"Vector dim:\", len(data[0][\"vector\"]))"
   ]
  },
  {
   "cell_type": "code",
   "execution_count": null,
   "id": "6ec4efd9-7e03-4a2c-a8f5-9fc1f3c262ac",
   "metadata": {},
   "outputs": [],
   "source": []
  }
 ],
 "metadata": {
  "kernelspec": {
   "display_name": "Python 3 (ipykernel)",
   "language": "python",
   "name": "python3"
  },
  "language_info": {
   "codemirror_mode": {
    "name": "ipython",
    "version": 3
   },
   "file_extension": ".py",
   "mimetype": "text/x-python",
   "name": "python",
   "nbconvert_exporter": "python",
   "pygments_lexer": "ipython3",
   "version": "3.8.10"
  }
 },
 "nbformat": 4,
 "nbformat_minor": 5
}
