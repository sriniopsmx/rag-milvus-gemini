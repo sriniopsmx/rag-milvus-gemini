{
 "cells": [
  {
   "cell_type": "code",
   "execution_count": 24,
   "id": "cec2bec5-bf0c-4520-bda8-325282bd9abb",
   "metadata": {},
   "outputs": [],
   "source": [
    "import pandas as pd"
   ]
  },
  {
   "cell_type": "code",
   "execution_count": 73,
   "id": "13324fe1-f424-4537-a70b-326e298443b6",
   "metadata": {},
   "outputs": [
    {
     "name": "stdout",
     "output_type": "stream",
     "text": [
      "1722874040.695477\n",
      "macOS-14.5-arm64-arm-64bit\n"
     ]
    }
   ],
   "source": [
    "import numpy as np\n",
    "import platform\n",
    "import torch\n",
    "import json\n",
    "import time\n",
    "print(time.time())\n",
    "print(platform.platform())"
   ]
  },
  {
   "cell_type": "code",
   "execution_count": 70,
   "id": "f2596f64-0e6e-4279-a47d-becf2f5d3f8e",
   "metadata": {},
   "outputs": [
    {
     "name": "stdout",
     "output_type": "stream",
     "text": [
      "env: PYTORCH_ENABLE_MPS_FALLBACK=1  #Fall back to Mac M1\n"
     ]
    }
   ],
   "source": [
    "np.__version__\n",
    "%env PYTORCH_ENABLE_MPS_FALLBACK=1  #Fall back to Mac M1"
   ]
  },
  {
   "cell_type": "code",
   "execution_count": 72,
   "id": "70706d02-d219-42a7-bb80-26c9f067669a",
   "metadata": {},
   "outputs": [],
   "source": [
    "# if torch.backends.mps.is_available():\n",
    "#     mps_device = torch.device(\"mps\")\n",
    "#     G.to(mps_device)\n",
    "#     D.to(mps_device)"
   ]
  },
  {
   "cell_type": "code",
   "execution_count": 27,
   "id": "b638a5fe-5ab6-48f9-a74f-8f6bcada7aab",
   "metadata": {},
   "outputs": [],
   "source": [
    "df = pd.read_excel(io=\"/Users/srinivas.kambhampati/AI-ML/SriniCiscoTaskTracker.xlsx\", sheet_name=\"Gemini-test\",header=0)"
   ]
  },
  {
   "cell_type": "code",
   "execution_count": 28,
   "id": "b56031ba-ac19-4550-a421-0833292b3484",
   "metadata": {},
   "outputs": [
    {
     "data": {
      "text/plain": [
       "(230, 5)"
      ]
     },
     "execution_count": 28,
     "metadata": {},
     "output_type": "execute_result"
    }
   ],
   "source": [
    "df.shape"
   ]
  },
  {
   "cell_type": "code",
   "execution_count": 29,
   "id": "a4bcd1b5-3cfe-4a98-811c-11426c9f8acb",
   "metadata": {},
   "outputs": [
    {
     "name": "stdout",
     "output_type": "stream",
     "text": [
      "<class 'pandas.core.frame.DataFrame'>\n",
      "RangeIndex: 230 entries, 0 to 229\n",
      "Data columns (total 5 columns):\n",
      " #   Column      Non-Null Count  Dtype \n",
      "---  ------      --------------  ----- \n",
      " 0   Issue       215 non-null    object\n",
      " 1   contents    215 non-null    object\n",
      " 2   messages    214 non-null    object\n",
      " 3   Context     140 non-null    object\n",
      " 4   Unnamed: 4  6 non-null      object\n",
      "dtypes: object(5)\n",
      "memory usage: 9.1+ KB\n"
     ]
    }
   ],
   "source": [
    "df.info()"
   ]
  },
  {
   "cell_type": "code",
   "execution_count": 30,
   "id": "0606375a-1d05-43ba-b8ec-1b519bfaf2de",
   "metadata": {},
   "outputs": [
    {
     "data": {
      "text/html": [
       "<div>\n",
       "<style scoped>\n",
       "    .dataframe tbody tr th:only-of-type {\n",
       "        vertical-align: middle;\n",
       "    }\n",
       "\n",
       "    .dataframe tbody tr th {\n",
       "        vertical-align: top;\n",
       "    }\n",
       "\n",
       "    .dataframe thead th {\n",
       "        text-align: right;\n",
       "    }\n",
       "</style>\n",
       "<table border=\"1\" class=\"dataframe\">\n",
       "  <thead>\n",
       "    <tr style=\"text-align: right;\">\n",
       "      <th></th>\n",
       "      <th>Issue</th>\n",
       "      <th>contents</th>\n",
       "      <th>messages</th>\n",
       "      <th>Context</th>\n",
       "      <th>Unnamed: 4</th>\n",
       "    </tr>\n",
       "  </thead>\n",
       "  <tbody>\n",
       "    <tr>\n",
       "      <th>0</th>\n",
       "      <td>User want to know is it possible to configure ...</td>\n",
       "      <td>Hi Team,\\nINC9078040\\nissue: User want to know...</td>\n",
       "      <td>1)Opsmx replied as:-where in spinnaker it is a...</td>\n",
       "      <td>For dev pipelines user can add themselves in p...</td>\n",
       "      <td>NaN</td>\n",
       "    </tr>\n",
       "    <tr>\n",
       "      <th>1</th>\n",
       "      <td>Spinnaker 4 Kubeconfig update 15 mins (Token e...</td>\n",
       "      <td>Hi Opsmx ,\\nMay i know if any testing is going...</td>\n",
       "      <td>Opsmx asked user to try once again.</td>\n",
       "      <td>monitor for 15 mins aftre token update the job...</td>\n",
       "      <td>NaN</td>\n",
       "    </tr>\n",
       "    <tr>\n",
       "      <th>2</th>\n",
       "      <td>Error loading config file</td>\n",
       "      <td>Hi Yeshashwini / OpsMx,\\n\\nDeployment are fail...</td>\n",
       "      <td>1)Opsmx suggested as need to check the Logs fo...</td>\n",
       "      <td>monitor for 15 mins aftre token update the job...</td>\n",
       "      <td>NaN</td>\n",
       "    </tr>\n",
       "    <tr>\n",
       "      <th>3</th>\n",
       "      <td>\\nDeployment failed due to error with Anypoint...</td>\n",
       "      <td>Hi Yeshashwini/ OpsMx\\n\\nINC9097548\\nIssue: sp...</td>\n",
       "      <td>Opsmx suggested user need to check with anypo...</td>\n",
       "      <td>Need to check with anypoint platform team.</td>\n",
       "      <td>NaN</td>\n",
       "    </tr>\n",
       "    <tr>\n",
       "      <th>4</th>\n",
       "      <td>Exception in Dev env. related to GitHub ,\\nRep...</td>\n",
       "      <td>Hi Yeshashwini/ Opsmx\\nSpinnaker deployment is...</td>\n",
       "      <td>Opsmx suggested as:- \\n1)Can you check with gi...</td>\n",
       "      <td>As the error clearly shows 404 status for gith...</td>\n",
       "      <td>NaN</td>\n",
       "    </tr>\n",
       "  </tbody>\n",
       "</table>\n",
       "</div>"
      ],
      "text/plain": [
       "                                               Issue  \\\n",
       "0  User want to know is it possible to configure ...   \n",
       "1  Spinnaker 4 Kubeconfig update 15 mins (Token e...   \n",
       "2                          Error loading config file   \n",
       "3  \\nDeployment failed due to error with Anypoint...   \n",
       "4  Exception in Dev env. related to GitHub ,\\nRep...   \n",
       "\n",
       "                                            contents  \\\n",
       "0  Hi Team,\\nINC9078040\\nissue: User want to know...   \n",
       "1  Hi Opsmx ,\\nMay i know if any testing is going...   \n",
       "2  Hi Yeshashwini / OpsMx,\\n\\nDeployment are fail...   \n",
       "3  Hi Yeshashwini/ OpsMx\\n\\nINC9097548\\nIssue: sp...   \n",
       "4  Hi Yeshashwini/ Opsmx\\nSpinnaker deployment is...   \n",
       "\n",
       "                                            messages  \\\n",
       "0  1)Opsmx replied as:-where in spinnaker it is a...   \n",
       "1                Opsmx asked user to try once again.   \n",
       "2  1)Opsmx suggested as need to check the Logs fo...   \n",
       "3   Opsmx suggested user need to check with anypo...   \n",
       "4  Opsmx suggested as:- \\n1)Can you check with gi...   \n",
       "\n",
       "                                             Context Unnamed: 4  \n",
       "0  For dev pipelines user can add themselves in p...        NaN  \n",
       "1  monitor for 15 mins aftre token update the job...        NaN  \n",
       "2  monitor for 15 mins aftre token update the job...        NaN  \n",
       "3         Need to check with anypoint platform team.        NaN  \n",
       "4  As the error clearly shows 404 status for gith...        NaN  "
      ]
     },
     "execution_count": 30,
     "metadata": {},
     "output_type": "execute_result"
    }
   ],
   "source": [
    "df.head()"
   ]
  },
  {
   "cell_type": "code",
   "execution_count": 31,
   "id": "a9ce4a6c-8688-48cd-9fd7-53bd1eb84214",
   "metadata": {},
   "outputs": [],
   "source": [
    "df.dropna(axis=0,how=\"all\",inplace=True)"
   ]
  },
  {
   "cell_type": "code",
   "execution_count": 32,
   "id": "72cdb9f9-a933-41e5-a0de-96ebabc8ade3",
   "metadata": {},
   "outputs": [
    {
     "data": {
      "text/plain": [
       "(216, 5)"
      ]
     },
     "execution_count": 32,
     "metadata": {},
     "output_type": "execute_result"
    }
   ],
   "source": [
    "df.shape"
   ]
  },
  {
   "cell_type": "markdown",
   "id": "71719178-4c7e-4545-b779-722e9d1219ac",
   "metadata": {},
   "source": [
    "#Title"
   ]
  },
  {
   "cell_type": "markdown",
   "id": "a5e1b147-b22f-452d-8f0b-7289905f5313",
   "metadata": {},
   "source": [
    "# Title"
   ]
  },
  {
   "cell_type": "code",
   "execution_count": 33,
   "id": "a416f230-bfd3-414a-b3ef-00050d70040f",
   "metadata": {},
   "outputs": [],
   "source": [
    "df.drop_duplicates(inplace=True)"
   ]
  },
  {
   "cell_type": "code",
   "execution_count": 34,
   "id": "1012a268-423d-4dfa-bc12-32cbed178def",
   "metadata": {},
   "outputs": [
    {
     "name": "stdout",
     "output_type": "stream",
     "text": [
      "<class 'pandas.core.frame.DataFrame'>\n",
      "Index: 215 entries, 0 to 229\n",
      "Data columns (total 5 columns):\n",
      " #   Column      Non-Null Count  Dtype \n",
      "---  ------      --------------  ----- \n",
      " 0   Issue       214 non-null    object\n",
      " 1   contents    214 non-null    object\n",
      " 2   messages    213 non-null    object\n",
      " 3   Context     139 non-null    object\n",
      " 4   Unnamed: 4  5 non-null      object\n",
      "dtypes: object(5)\n",
      "memory usage: 10.1+ KB\n"
     ]
    }
   ],
   "source": [
    "df.info()"
   ]
  },
  {
   "cell_type": "code",
   "execution_count": 54,
   "id": "37158f7e-2d7f-4418-8848-4479e6a1abbd",
   "metadata": {},
   "outputs": [
    {
     "data": {
      "text/plain": [
       "Issue       0\n",
       "contents    0\n",
       "messages    0\n",
       "Context     0\n",
       "dtype: int64"
      ]
     },
     "execution_count": 54,
     "metadata": {},
     "output_type": "execute_result"
    }
   ],
   "source": [
    "df.isna().sum()"
   ]
  },
  {
   "cell_type": "code",
   "execution_count": 23,
   "id": "688fd746-e133-4c35-8a1a-dddfa0cfd42f",
   "metadata": {},
   "outputs": [
    {
     "name": "stdout",
     "output_type": "stream",
     "text": [
      "154    Anil, Opsmx, OpsmxPRASAD can you check this pi...\n",
      "Name: contents, dtype: object\n"
     ]
    }
   ],
   "source": [
    "print(df[df[\"Issue\"].isnull()][\"contents\"])"
   ]
  },
  {
   "cell_type": "code",
   "execution_count": 36,
   "id": "8a682cba-15d3-4531-9280-24f1bd186fed",
   "metadata": {},
   "outputs": [],
   "source": [
    "df.drop(df.columns[4],axis=1,inplace=True)"
   ]
  },
  {
   "cell_type": "code",
   "execution_count": 55,
   "id": "373876b8-f18e-4d55-b771-27fa38e308bb",
   "metadata": {},
   "outputs": [
    {
     "name": "stdout",
     "output_type": "stream",
     "text": [
      "<class 'pandas.core.frame.DataFrame'>\n",
      "Index: 138 entries, 0 to 228\n",
      "Data columns (total 4 columns):\n",
      " #   Column    Non-Null Count  Dtype \n",
      "---  ------    --------------  ----- \n",
      " 0   Issue     138 non-null    object\n",
      " 1   contents  138 non-null    object\n",
      " 2   messages  138 non-null    object\n",
      " 3   Context   138 non-null    object\n",
      "dtypes: object(4)\n",
      "memory usage: 5.4+ KB\n"
     ]
    }
   ],
   "source": [
    "df.info()"
   ]
  },
  {
   "cell_type": "code",
   "execution_count": 53,
   "id": "b9ec28af-39d2-4c11-8ea5-e8db18e1bd1a",
   "metadata": {},
   "outputs": [],
   "source": [
    "df.dropna(inplace=True)"
   ]
  },
  {
   "cell_type": "code",
   "execution_count": 56,
   "id": "7f33f206-772b-4ed6-88ac-9c16af3ee708",
   "metadata": {},
   "outputs": [
    {
     "data": {
      "text/html": [
       "<div>\n",
       "<style scoped>\n",
       "    .dataframe tbody tr th:only-of-type {\n",
       "        vertical-align: middle;\n",
       "    }\n",
       "\n",
       "    .dataframe tbody tr th {\n",
       "        vertical-align: top;\n",
       "    }\n",
       "\n",
       "    .dataframe thead th {\n",
       "        text-align: right;\n",
       "    }\n",
       "</style>\n",
       "<table border=\"1\" class=\"dataframe\">\n",
       "  <thead>\n",
       "    <tr style=\"text-align: right;\">\n",
       "      <th></th>\n",
       "      <th>Issue</th>\n",
       "      <th>contents</th>\n",
       "      <th>messages</th>\n",
       "      <th>Context</th>\n",
       "    </tr>\n",
       "  </thead>\n",
       "  <tbody>\n",
       "    <tr>\n",
       "      <th>0</th>\n",
       "      <td>User want to know is it possible to configure ...</td>\n",
       "      <td>Hi Team,\\nINC9078040\\nissue: User want to know...</td>\n",
       "      <td>1)Opsmx replied as:-where in spinnaker it is a...</td>\n",
       "      <td>For dev pipelines user can add themselves in p...</td>\n",
       "    </tr>\n",
       "    <tr>\n",
       "      <th>1</th>\n",
       "      <td>Spinnaker 4 Kubeconfig update 15 mins (Token e...</td>\n",
       "      <td>Hi Opsmx ,\\nMay i know if any testing is going...</td>\n",
       "      <td>Opsmx asked user to try once again.</td>\n",
       "      <td>monitor for 15 mins aftre token update the job...</td>\n",
       "    </tr>\n",
       "    <tr>\n",
       "      <th>2</th>\n",
       "      <td>Error loading config file</td>\n",
       "      <td>Hi Yeshashwini / OpsMx,\\n\\nDeployment are fail...</td>\n",
       "      <td>1)Opsmx suggested as need to check the Logs fo...</td>\n",
       "      <td>monitor for 15 mins aftre token update the job...</td>\n",
       "    </tr>\n",
       "    <tr>\n",
       "      <th>3</th>\n",
       "      <td>\\nDeployment failed due to error with Anypoint...</td>\n",
       "      <td>Hi Yeshashwini/ OpsMx\\n\\nINC9097548\\nIssue: sp...</td>\n",
       "      <td>Opsmx suggested user need to check with anypo...</td>\n",
       "      <td>Need to check with anypoint platform team.</td>\n",
       "    </tr>\n",
       "    <tr>\n",
       "      <th>4</th>\n",
       "      <td>Exception in Dev env. related to GitHub ,\\nRep...</td>\n",
       "      <td>Hi Yeshashwini/ Opsmx\\nSpinnaker deployment is...</td>\n",
       "      <td>Opsmx suggested as:- \\n1)Can you check with gi...</td>\n",
       "      <td>As the error clearly shows 404 status for gith...</td>\n",
       "    </tr>\n",
       "    <tr>\n",
       "      <th>5</th>\n",
       "      <td>Cannot connect to the Docker daemon</td>\n",
       "      <td>Hi Yeshashwini\\nReg INC9104019\\n\\nSpinnaker de...</td>\n",
       "      <td>Opsmx replied as:-  We will check</td>\n",
       "      <td>Team has resolved the issue</td>\n",
       "    </tr>\n",
       "    <tr>\n",
       "      <th>6</th>\n",
       "      <td>logs are showing as blank , due to which user ...</td>\n",
       "      <td>Hi Yeshashwini/ Opsmx/ Ganguly\\nReg INC9113735...</td>\n",
       "      <td>Opsmx suggested as:- \\n1)I can see the logs fo...</td>\n",
       "      <td>Check where it was either a problem with their...</td>\n",
       "    </tr>\n",
       "    <tr>\n",
       "      <th>7</th>\n",
       "      <td>Access denied to account cae-np-rtp2-dev-42485c</td>\n",
       "      <td>Hi Yeshashwini/ Opsmx,\\n\\nReg: INC9112219\\n\\nS...</td>\n",
       "      <td>Opsmx suggested as:- \\n1)Can you ask user to e...</td>\n",
       "      <td>Have to edit code deploy section. It will upda...</td>\n",
       "    </tr>\n",
       "    <tr>\n",
       "      <th>8</th>\n",
       "      <td>deployment in Spinnaker stage environment is ...</td>\n",
       "      <td>Hi Yeshashwini / Opsmx,\\nRegarding Incident IN...</td>\n",
       "      <td>Opsmx suggested as:- \\n1)Seems like some yaml ...</td>\n",
       "      <td>Yaml issue have to compare the deployment and ...</td>\n",
       "    </tr>\n",
       "    <tr>\n",
       "      <th>9</th>\n",
       "      <td>Save changes toggle/button is not getting enab...</td>\n",
       "      <td>Hi Yeshashwini/ Opsmx , reg INC9124793\\n\\nSave...</td>\n",
       "      <td>Opsmx suggested as:- \\n1)Users cannot edit sta...</td>\n",
       "      <td>Add a parameters for this pipeline.</td>\n",
       "    </tr>\n",
       "  </tbody>\n",
       "</table>\n",
       "</div>"
      ],
      "text/plain": [
       "                                               Issue  \\\n",
       "0  User want to know is it possible to configure ...   \n",
       "1  Spinnaker 4 Kubeconfig update 15 mins (Token e...   \n",
       "2                          Error loading config file   \n",
       "3  \\nDeployment failed due to error with Anypoint...   \n",
       "4  Exception in Dev env. related to GitHub ,\\nRep...   \n",
       "5               Cannot connect to the Docker daemon    \n",
       "6  logs are showing as blank , due to which user ...   \n",
       "7    Access denied to account cae-np-rtp2-dev-42485c   \n",
       "8   deployment in Spinnaker stage environment is ...   \n",
       "9  Save changes toggle/button is not getting enab...   \n",
       "\n",
       "                                            contents  \\\n",
       "0  Hi Team,\\nINC9078040\\nissue: User want to know...   \n",
       "1  Hi Opsmx ,\\nMay i know if any testing is going...   \n",
       "2  Hi Yeshashwini / OpsMx,\\n\\nDeployment are fail...   \n",
       "3  Hi Yeshashwini/ OpsMx\\n\\nINC9097548\\nIssue: sp...   \n",
       "4  Hi Yeshashwini/ Opsmx\\nSpinnaker deployment is...   \n",
       "5  Hi Yeshashwini\\nReg INC9104019\\n\\nSpinnaker de...   \n",
       "6  Hi Yeshashwini/ Opsmx/ Ganguly\\nReg INC9113735...   \n",
       "7  Hi Yeshashwini/ Opsmx,\\n\\nReg: INC9112219\\n\\nS...   \n",
       "8  Hi Yeshashwini / Opsmx,\\nRegarding Incident IN...   \n",
       "9  Hi Yeshashwini/ Opsmx , reg INC9124793\\n\\nSave...   \n",
       "\n",
       "                                            messages  \\\n",
       "0  1)Opsmx replied as:-where in spinnaker it is a...   \n",
       "1                Opsmx asked user to try once again.   \n",
       "2  1)Opsmx suggested as need to check the Logs fo...   \n",
       "3   Opsmx suggested user need to check with anypo...   \n",
       "4  Opsmx suggested as:- \\n1)Can you check with gi...   \n",
       "5                  Opsmx replied as:-  We will check   \n",
       "6  Opsmx suggested as:- \\n1)I can see the logs fo...   \n",
       "7  Opsmx suggested as:- \\n1)Can you ask user to e...   \n",
       "8  Opsmx suggested as:- \\n1)Seems like some yaml ...   \n",
       "9  Opsmx suggested as:- \\n1)Users cannot edit sta...   \n",
       "\n",
       "                                             Context  \n",
       "0  For dev pipelines user can add themselves in p...  \n",
       "1  monitor for 15 mins aftre token update the job...  \n",
       "2  monitor for 15 mins aftre token update the job...  \n",
       "3         Need to check with anypoint platform team.  \n",
       "4  As the error clearly shows 404 status for gith...  \n",
       "5                        Team has resolved the issue  \n",
       "6  Check where it was either a problem with their...  \n",
       "7  Have to edit code deploy section. It will upda...  \n",
       "8  Yaml issue have to compare the deployment and ...  \n",
       "9                Add a parameters for this pipeline.  "
      ]
     },
     "execution_count": 56,
     "metadata": {},
     "output_type": "execute_result"
    }
   ],
   "source": [
    "df.head(10)"
   ]
  },
  {
   "cell_type": "code",
   "execution_count": 57,
   "id": "77ad4ce3-7633-40d1-a9ec-5d49a1247d8c",
   "metadata": {},
   "outputs": [],
   "source": [
    "data = df.to_dict(orient='records')"
   ]
  },
  {
   "cell_type": "code",
   "execution_count": 58,
   "id": "a9ece22f-ac7f-4e4f-9dab-1c50d065a58d",
   "metadata": {},
   "outputs": [],
   "source": [
    "with open('/Users/srinivas.kambhampati/AI-ML/data2.jsonl', 'wt') as f:\n",
    "    for item in data:\n",
    "      f.write(json.dumps(item) + '\\n')"
   ]
  },
  {
   "cell_type": "code",
   "execution_count": 59,
   "id": "419e004e-6ca5-4ffb-afc5-250820d5e49b",
   "metadata": {},
   "outputs": [],
   "source": [
    "f.close()"
   ]
  },
  {
   "cell_type": "code",
   "execution_count": null,
   "id": "9c0ee039-2c62-4a31-97a3-c75bb18f9f02",
   "metadata": {},
   "outputs": [],
   "source": []
  }
 ],
 "metadata": {
  "kernelspec": {
   "display_name": "Python 3 (ipykernel)",
   "language": "python",
   "name": "python3"
  },
  "language_info": {
   "codemirror_mode": {
    "name": "ipython",
    "version": 3
   },
   "file_extension": ".py",
   "mimetype": "text/x-python",
   "name": "python",
   "nbconvert_exporter": "python",
   "pygments_lexer": "ipython3",
   "version": "3.8.10"
  }
 },
 "nbformat": 4,
 "nbformat_minor": 5
}
