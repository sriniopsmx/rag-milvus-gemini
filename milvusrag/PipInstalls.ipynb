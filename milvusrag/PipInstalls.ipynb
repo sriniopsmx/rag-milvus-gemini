{
 "cells": [
  {
   "cell_type": "code",
   "execution_count": null,
   "id": "fa95db0f-3911-4c4f-9d7a-41bffd739b1b",
   "metadata": {},
   "outputs": [],
   "source": [
    "# Program to upload data into Milvus\n",
    "!pip install -U pymilvus\n",
    "!pip install \"pymilvus[model]\"\n",
    "!pip install --upgrade pymilvus transformers datasets torch\n",
    "!pip install openpyxl\n",
    "!pip install clean-text\n",
    "!pip install  google-generativeai\n",
    "!pip install streamlit\n",
    "!python --version"
   ]
  }
 ],
 "metadata": {
  "kernelspec": {
   "display_name": "Python 3 (ipykernel)",
   "language": "python",
   "name": "python3"
  },
  "language_info": {
   "codemirror_mode": {
    "name": "ipython",
    "version": 3
   },
   "file_extension": ".py",
   "mimetype": "text/x-python",
   "name": "python",
   "nbconvert_exporter": "python",
   "pygments_lexer": "ipython3",
   "version": "3.9.19"
  }
 },
 "nbformat": 4,
 "nbformat_minor": 5
}
